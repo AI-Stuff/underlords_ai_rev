{
  "nbformat": 4,
  "nbformat_minor": 0,
  "metadata": {
    "colab": {
      "name": "underlords_bot_newest_version.ipynb",
      "provenance": [],
      "collapsed_sections": [],
      "toc_visible": true
    },
    "kernelspec": {
      "name": "python3",
      "display_name": "Python 3"
    }
  },
  "cells": [
    {
      "cell_type": "markdown",
      "metadata": {
        "id": "_FeEOLVrxgKm",
        "colab_type": "text"
      },
      "source": [
        "MAKE A BACKUP / COPY OF THIS WHENEVER UPDATING. \n",
        "\n",
        "This colab file is shared with multiple people, so anything you do on here may be overwritten (colab does not work in the same way as google docs, and it is easy to overwrite someone else's save). Creating a backup each time you make an important update will prevent your work from being deleted. Working on this file is fine. To prevent overwriting, make sure to use your own cell"
      ]
    },
    {
      "cell_type": "markdown",
      "metadata": {
        "id": "26Z45wh1Sf5s",
        "colab_type": "text"
      },
      "source": [
        "This will contain the newest version of underlords AI. Info can be posted here on what to work on. The old code (which we will need to revamp) is on the github, which can be found on the discord."
      ]
    },
    {
      "cell_type": "markdown",
      "metadata": {
        "id": "iiCrlMmPx57Q",
        "colab_type": "text"
      },
      "source": [
        "# Simulator Class "
      ]
    },
    {
      "cell_type": "markdown",
      "metadata": {
        "id": "mT9OXBCLx_UO",
        "colab_type": "text"
      },
      "source": [
        "The following JSON file contains info about the Underlords pieces which will be used in making the simulator\n",
        "\n",
        "https://github.com/SteamDatabase/GameTracking-Underlords/blob/master/game/dac/pak01_dir/scripts/units.json\n",
        "\n",
        "Load the contents of the JSON "
      ]
    },
    {
      "cell_type": "code",
      "metadata": {
        "id": "hZ8A80PESaC0",
        "colab_type": "code",
        "outputId": "d4dffac9-d404-42e0-c4b7-054849c239a0",
        "colab": {
          "base_uri": "https://localhost:8080/",
          "height": 34
        }
      },
      "source": [
        "from google.colab import drive\n",
        "drive.mount('/content/gdrive', force_remount=True)"
      ],
      "execution_count": 10,
      "outputs": [
        {
          "output_type": "stream",
          "text": [
            "Mounted at /content/gdrive\n"
          ],
          "name": "stdout"
        }
      ]
    },
    {
      "cell_type": "code",
      "metadata": {
        "id": "cmPhrpjy03jO",
        "colab_type": "code",
        "colab": {}
      },
      "source": [
        "import json\n",
        "\n",
        "file_path = 'units.json'\n",
        "url = 'https://raw.githubusercontent.com/SteamDatabase/GameTracking-Underlords/master/game/dac/pak01_dir/scripts/units.json'"
      ],
      "execution_count": 0,
      "outputs": []
    },
    {
      "cell_type": "code",
      "metadata": {
        "id": "BxwOfK-cSy00",
        "colab_type": "code",
        "colab": {}
      },
      "source": [
        "# Downloads a json frile from an URL and save to file_path\n",
        "def downloads_json(url, file_path):\n",
        "  import requests\n",
        "  myfile = requests.get(url, allow_redirects=True)\n",
        "  open(file_path, 'wb').write(myfile.content)\n",
        "\n",
        "# Load json data to a python dictionary from file_path\n",
        "def load_json(file_path):  \n",
        "  import json \n",
        "  return json.load(open(file_path))\n",
        "  \n",
        "\n",
        "# Fetch data: download then load a json to a dictionary\n",
        "def fetch_data(url, file_path='sample.json'):\n",
        "  downloads_json(url, file_path)\n",
        "  return load_json(file_path)\n"
      ],
      "execution_count": 0,
      "outputs": []
    },
    {
      "cell_type": "code",
      "metadata": {
        "id": "9oUnexLkUAlW",
        "colab_type": "code",
        "colab": {}
      },
      "source": [
        "unit_info = fetch_data(url, file_path)"
      ],
      "execution_count": 0,
      "outputs": []
    },
    {
      "cell_type": "code",
      "metadata": {
        "id": "rANnQ3PCX8zW",
        "colab_type": "code",
        "outputId": "920c0b42-6ab2-4ce1-94b0-a09d544e32b6",
        "colab": {
          "base_uri": "https://localhost:8080/",
          "height": 54
        }
      },
      "source": [
        "print(unit_info)"
      ],
      "execution_count": 14,
      "outputs": [
        {
          "output_type": "stream",
          "text": [
            "{'abaddon': {'abilities': ['abaddon_aphotic_shield'], 'armor': 10, 'attackAnimationPoint': 0.56, 'attackRange': 1, 'attackRate': 1.5, 'damageMin': [45, 90, 216], 'damageMax': [55, 110, 264], 'displayName': '#dac_hero_name_abaddon', 'dota_unit_name': 'npc_dota_hero_abaddon', 'draftTier': 3, 'goldCost': 3, 'health': [1500, 3000, 6000], 'id': 32, 'hintWords': ['#dac_hero_hint_melee', '#dac_hero_hint_explosive_shield'], 'keywords': 'undead knight', 'magicResist': 0, 'maxmana': 100, 'model': 'models/heroes/abaddon/abaddon.vmdl', 'model_scale': 0.6, 'texturename': 'abaddon', 'soundSet': 'Hero_Abaddon', 'movespeed': 325, 'healthBarOffset': -45}, 'alchemist': {'abilities': ['alchemist_acid_spray'], 'armor': 5, 'attackAnimationPoint': 0.35, 'attackRange': 1, 'attackRate': 1, 'damageMin': [50, 100, 200], 'damageMax': [70, 140, 280], 'displayName': '#dac_hero_name_alchemist', 'dota_unit_name': 'npc_dota_hero_alchemist', 'draftTier': 4, 'goldCost': 4, 'health': [2000, 4000, 8000], 'id': 46, 'hintWords': ['#dac_hero_hint_melee', '#dac_hero_hint_wide_debuff'], 'keywords': 'goblin warlock', 'magicResist': 0, 'maxmana': 100, 'model': 'models/heroes/alchemist/alchemist.vmdl', 'model_scale': 0.75, 'texturename': 'alchemist', 'soundSet': 'Hero_Alchemist', 'movespeed': 305, 'healthBarOffset': 25, 'aiAura': True}, 'antimage': {'abilities': ['antimage_mana_break'], 'baseclass': 'dac_npc_assassin', 'assassin_modifier': 'assassin_modifier_anti_mage', 'armor': 5, 'attackAnimationPoint': 0.3, 'attackRange': 1, 'attackRate': 1.2, 'damageMin': [45, 90, 180], 'damageMax': [55, 110, 220], 'displayName': '#dac_hero_name_antimage', 'dota_unit_name': 'npc_dota_hero_antimage', 'draftTier': 1, 'goldCost': 1, 'health': [1000, 1800, 4000], 'id': 11, 'hintWords': ['#dac_hero_hint_melee', '#dac_hero_hint_teleport_movement', '#dac_hero_hint_mana_break'], 'keywords': 'elf assassin', 'magicResist': [30, 40, 50], 'maxmana': 0, 'model': 'models/heroes/antimage/antimage.vmdl', 'model_scale': 0.65, 'texturename': 'antimage', 'soundSet': 'Hero_Antimage', 'movespeed': 310, 'healthBarOffset': -30, 'aiPassiveAbility': True, 'precache': ['particles/items/blink_dagger/blink_dagger_start.vpcf', 'particles/items/blink_dagger/blink_dagger_end.vpcf']}, 'axe': {'abilities': ['axe_berserkers_call'], 'armor': [5, 10, 15], 'attackAnimationPoint': 0.5, 'attackRange': 1, 'attackRate': 1.5, 'damageMin': [50, 100, 200], 'damageMax': [55, 110, 220], 'displayName': '#dac_hero_name_axe', 'dota_unit_name': 'npc_dota_hero_axe', 'draftTier': 1, 'goldCost': 1, 'health': [1851, 3703, 7406], 'id': 1, 'hintWords': ['#dac_hero_hint_melee', '#dac_hero_hint_taunt'], 'keywords': 'brawny brutal', 'magicResist': 0, 'maxmana': 50, 'model': 'models/heroes/axe/axe.vmdl', 'model_scale': 0.75, 'texturename': 'axe', 'soundSet': 'Hero_Axe', 'movespeed': 295, 'healthBarOffset': -30}, 'bat_rider': {'abilities': ['batrider_sticky_napalm'], 'armor': 5, 'attackAnimationPoint': 0.3, 'attackRange': 3, 'attackRate': 1.3, 'damageMin': [40, 80, 160], 'damageMax': [55, 110, 220], 'displayName': '#dac_hero_name_bat_rider', 'dota_unit_name': 'npc_dota_hero_batrider', 'draftTier': 1, 'goldCost': 1, 'health': [1000, 2000, 4000], 'id': 9, 'hintWords': ['#dac_hero_hint_ranged', '#dac_hero_hint_ramping_damage'], 'keywords': 'troll knight', 'magicResist': 0, 'maxmana': 20, 'model': 'models/heroes/batrider/batrider.vmdl', 'model_scale': 0.5, 'texturename': 'batrider', 'projectile_speed': 900, 'projectile_model': 'particles/units/heroes/hero_batrider/batrider_base_attack.vpcf', 'soundSet': 'Hero_Batrider', 'movespeed': 290, 'healthBarOffset': -100}, 'beastmaster': {'abilities': ['beastmaster_wild_axes'], 'armor': 5, 'attackAnimationPoint': 0.3, 'attackRange': 1, 'attackRate': 1.1, 'damageMin': [60, 120, 240], 'damageMax': [70, 140, 280], 'displayName': '#dac_hero_name_beast_master', 'dota_unit_name': 'npc_dota_hero_beastmaster', 'draftTier': 2, 'goldCost': 2, 'health': [1200, 2400, 4800], 'id': 14, 'hintWords': ['#dac_hero_hint_melee', '#dac_hero_hint_cone_damage'], 'keywords': 'brawny hunter', 'magicResist': 0, 'maxmana': 100, 'model': 'models/heroes/beastmaster/beastmaster.vmdl', 'model_scale': 0.55, 'soundSet': 'Hero_Beastmaster', 'texturename': 'beastmaster', 'movespeed': 305, 'healthBarOffset': -40}, 'bounty_hunter': {'abilities': ['bounty_hunter_shuriken_toss'], 'baseclass': 'dac_npc_assassin', 'assassin_modifier': 'assassin_modifier_bounty_hunter', 'armor': 5, 'attackAnimationPoint': 0.59, 'attackRange': 1, 'attackRate': 1, 'damageMin': [50, 100, 200], 'damageMax': [70, 140, 280], 'displayName': '#dac_hero_name_bounty_hunter', 'dota_unit_name': 'npc_dota_hero_bounty_hunter', 'draftTier': 1, 'goldCost': 1, 'health': [1100, 1980, 4400], 'id': 6, 'hintWords': ['#dac_hero_hint_melee', '#dac_hero_hint_teleport_movement'], 'keywords': 'goblin assassin', 'magicResist': 0, 'maxmana': 100, 'model': 'models/heroes/bounty_hunter/bounty_hunter.vmdl', 'model_scale': 0.65, 'texturename': 'bounty_hunter', 'soundSet': 'Hero_BountyHunter', 'movespeed': 315, 'precache': ['particles/units/heroes/hero_bounty_hunter/bounty_hunter_windwalk_start.vpcf', 'particles/units/heroes/hero_bounty_hunter/bounty_hunter_windwalk_end.vpcf'], 'healthBarOffset': 20}, 'chaos_knight': {'abilities': ['chaos_knight_chaos_bolt'], 'armor': 5, 'attackAnimationPoint': 0.5, 'attackRange': 1, 'attackRate': 1.3, 'damageMin': [55, 110, 200], 'damageMax': [130, 240, 480], 'displayName': '#dac_hero_name_chaos_knight', 'dota_unit_name': 'npc_dota_hero_chaos_knight', 'draftTier': 2, 'goldCost': 2, 'health': [1500, 3000, 6000], 'id': 21, 'hintWords': ['#dac_hero_hint_melee', '#dac_hero_hint_high_single_target_damage'], 'keywords': 'demon knight', 'magicResist': 0, 'maxmana': 75, 'model': 'models/heroes/chaos_knight/chaos_knight.vmdl', 'model_scale': 0.6, 'texturename': 'chaos_knight', 'soundSet': 'Hero_ChaosKnight', 'movespeed': 320, 'healthBarOffset': -30}, 'clockwerk': {'abilities': ['clockwerk_battery_assault'], 'armor': [10, 13, 15], 'attackAnimationPoint': 0.33, 'attackRange': 1, 'attackRate': 1.4, 'damageMin': [55, 110, 220], 'damageMax': [65, 130, 260], 'displayName': '#dac_hero_name_clockwerk', 'dota_unit_name': 'npc_dota_hero_rattletrap', 'draftTier': 3, 'goldCost': 3, 'health': [1800, 3600, 7000], 'id': 7, 'hintWords': ['#dac_hero_hint_melee', '#dac_hero_hint_tanky', '#dac_hero_hint_aoe_ministun'], 'keywords': 'goblin inventor', 'magicResist': 0, 'maxmana': 100, 'model': 'models/heroes/rattletrap/rattletrap.vmdl', 'model_scale': 0.75, 'texturename': 'rattletrap', 'soundSet': 'Hero_Rattletrap', 'movespeed': 310, 'healthBarOffset': 20}, 'crystal_maiden': {'abilities': ['crystal_maiden_frostbite'], 'armor': 5, 'attackAnimationPoint': 0.55, 'attackRange': 4, 'attackRate': 1.7, 'damageMin': [40, 80, 160], 'damageMax': [45, 90, 180], 'displayName': '#dac_hero_name_crystal_maiden', 'dota_unit_name': 'npc_dota_hero_crystal_maiden', 'draftTier': 2, 'goldCost': 2, 'health': [1000, 2000, 4000], 'id': 13, 'hintWords': ['#dac_hero_hint_ranged', '#dac_hero_hint_freezes_enemies'], 'keywords': 'human mage', 'magicResist': 0, 'maxmana': 100, 'model': 'models/heroes/crystal_maiden/crystal_maiden.vmdl', 'model_scale': 0.7, 'texturename': 'crystal_maiden', 'soundSet': 'Hero_Crystal', 'projectile_speed': 900, 'projectile_model': 'particles/units/heroes/hero_crystalmaiden/maiden_base_attack.vpcf', 'movespeed': 275, 'healthBarOffset': -20, 'death_modifier': 'modifier_crystal_maiden_death', 'precache': ['particles/units/heroes/hero_crystalmaiden/maiden_death.vpcf']}, 'disruptor': {'abilities': ['disruptor_static_storm', 'disruptor_warlock_bonus'], 'armor': 5, 'attackAnimationPoint': 0.4, 'attackRange': 4, 'attackRate': 1.5, 'damageMin': [54, 108, 216], 'damageMax': [60, 120, 240], 'displayName': '#dac_hero_name_disruptor', 'dota_unit_name': 'npc_dota_hero_disruptor', 'draftTier': 5, 'goldCost': 5, 'health': [1800, 3200, 6800], 'id': 47, 'hintWords': ['#dac_hero_hint_ranged', '#dac_hero_hint_aoe_silence'], 'keywords': 'brawny warlock', 'magicResist': 0, 'maxmana': 100, 'model': 'models/heroes/disruptor/disruptor.vmdl', 'model_scale': 0.55, 'texturename': 'disruptor', 'soundSet': 'Hero_Disruptor', 'projectile_speed': 1200, 'projectile_model': 'particles/units/heroes/hero_disruptor/disruptor_base_attack.vpcf', 'movespeed': 295, 'healthBarOffset': -90, 'legendary': {'bonus': 15.0, 'synergy': 'warlock', 'description': '#dac_legendary_disruptor_desc', 'title': '#dac_legendary_title_disruptor'}}, 'doom': {'abilities': ['doom_bringer_doom'], 'armor': 5, 'attackAnimationPoint': 0.5, 'attackRange': 1, 'attackRate': 1.3, 'damageMin': [110, 220, 440], 'damageMax': [120, 240, 480], 'displayName': '#dac_hero_name_doom', 'dota_unit_name': 'npc_dota_hero_doom_bringer', 'draftTier': 4, 'goldCost': 4, 'health': [2100, 4200, 8400], 'id': 40, 'hintWords': ['#dac_hero_hint_melee', '#dac_hero_hint_doom_silence'], 'keywords': 'demon brutal', 'magicResist': 0, 'maxmana': 100, 'model': 'models/heroes/doom/doom.vmdl', 'model_scale': 0.6, 'texturename': 'doom_bringer', 'soundSet': 'Hero_DoomBringer', 'movespeed': 285, 'healthBarOffset': -90}, 'dragon_knight': {'abilities': ['dragon_knight_breathe_fire'], 'extra_abilities': ['dragon_knight_elder_dragon_form'], 'armor': 10, 'attackAnimationPoint': 0.5, 'attackRange': 1, 'attackRate': 1.2, 'damageMin': [50, 100, 200], 'damageMax': [60, 120, 240], 'displayName': '#dac_hero_name_dragon_knight', 'dota_unit_name': 'npc_dota_hero_dragon_knight', 'draftTier': 4, 'goldCost': 4, 'health': [2000, 4000, 8000], 'id': 49, 'hintWords': ['#dac_hero_hint_melee', '#dac_hero_hint_dragon'], 'keywords': 'human dragon knight', 'magicResist': 0, 'maxmana': 100, 'model': 'models/heroes/dragon_knight/dragon_knight.vmdl', 'model_scale': 0.65, 'texturename': 'dragon_knight', 'soundSet': 'Hero_DragonKnight', 'useConstantAnimationLayer': True, 'movespeed': 295, 'projectile_speed': 900, 'healthBarOffset': 0}, 'drow_ranger': {'abilities': ['drow_ranger_trueshot_aura'], 'armor': 5, 'attackAnimationPoint': 0.7, 'attackRange': 4, 'attackRate': 1.2, 'damageMin': [56, 112, 225], 'damageMax': [62, 125, 250], 'displayName': '#dac_hero_name_drow_ranger', 'dota_unit_name': 'npc_dota_hero_drow_ranger', 'draftTier': 1, 'goldCost': 1, 'health': [800, 1600, 3200], 'id': 5, 'hintWords': ['#dac_hero_hint_ranged', '#dac_hero_hint_nearby_allies_attack_faster'], 'keywords': 'undead hunter', 'magicResist': 0, 'maxmana': 100, 'model': 'models/heroes/drow/drow_base.vmdl', 'model_scale': 0.75, 'texturename': 'drow_ranger', 'soundSet': 'Hero_DrowRanger', 'projectile_model': 'particles/units/heroes/hero_drow/drow_base_attack.vpcf', 'movespeed': 285, 'projectile_speed': 900, 'healthBarOffset': -15, 'aiPassiveAbility': True, 'aiAura': True}, 'enchantress': {'abilities': ['enchantress_natures_attendants'], 'armor': 5, 'attackAnimationPoint': 0.3, 'attackRange': 2, 'attackRate': 1.5, 'damageMin': [60, 110, 210], 'damageMax': [70, 130, 250], 'displayName': '#dac_hero_name_enchantress', 'dota_unit_name': 'npc_dota_hero_enchantress', 'draftTier': 1, 'goldCost': 1, 'health': [800, 1600, 3000], 'id': 2, 'hintWords': ['#dac_hero_hint_ranged', '#dac_hero_hint_healer'], 'keywords': 'savage druid healer', 'magicResist': 0, 'maxmana': 100, 'model': 'models/heroes/enchantress/enchantress.vmdl', 'model_scale': 0.6, 'texturename': 'enchantress', 'soundSet': 'Hero_Enchantress', 'projectile_model': 'particles/units/heroes/hero_enchantress/enchantress_base_attack.vpcf', 'movespeed': 315, 'projectile_speed': 900, 'healthBarOffset': -40}, 'enigma': {'abilities': ['enigma_midnight_pulse', 'enigma_primordial_bonus'], 'armor': 5, 'attackAnimationPoint': 0.4, 'attackRange': 3, 'attackRate': 1.5, 'damageMin': [45, 90, 180], 'damageMax': [55, 110, 220], 'displayName': '#dac_hero_name_enigma', 'dota_unit_name': 'npc_dota_hero_enigma', 'draftTier': 5, 'goldCost': 5, 'health': [2000, 4000, 8000], 'id': 54, 'hintWords': ['#dac_hero_hint_ranged', '#dac_hero_hint_high_group_damage'], 'keywords': 'primordial shaman', 'magicResist': 40, 'maxmana': 100, 'model': 'models/heroes/enigma/enigma.vmdl', 'model_scale': 0.55, 'texturename': 'enigma', 'soundSet': 'Hero_Enigma', 'projectile_speed': 900, 'projectile_model': 'particles/units/heroes/hero_enigma/enigma_base_attack.vpcf', 'movespeed': 290, 'healthBarOffset': -70, 'legendary': {'bonus': 15.0, 'synergy': 'primordial', 'description': '#dac_legendary_enigma_desc', 'title': '#dac_legendary_title_enigma'}}, 'furion': {'abilities': ['natures_prophet_wrath_of_nature'], 'armor': 0, 'attackAnimationPoint': 0.4, 'attackRange': 3, 'attackRate': 1.3, 'damageMin': [56, 112, 225], 'damageMax': [62, 125, 250], 'displayName': '#dac_hero_name_furion', 'dota_unit_name': 'npc_dota_hero_furion', 'draftTier': 2, 'goldCost': 2, 'health': [1000, 2000, 4000], 'id': 25, 'hintWords': ['#dac_hero_hint_ranged', '#dac_hero_hint_chaining_damage_spell'], 'keywords': 'druid shaman', 'magicResist': 0, 'maxmana': 100, 'model': 'models/heroes/furion/furion.vmdl', 'model_scale': 0.6, 'texturename': 'furion', 'soundSet': 'Hero_Furion', 'projectile_speed': 1125, 'projectile_model': 'particles/units/heroes/hero_furion/furion_base_attack.vpcf', 'movespeed': 290, 'healthBarOffset': -20}, 'gyrocopter': {'abilities': ['gyrocopter_call_down', 'gyrocopter_deadeye_bonus'], 'armor': 15, 'attackAnimationPoint': 0.2, 'attackRange': 6, 'attackRate': 0.9, 'damageMin': [75, 150, 300], 'damageMax': [80, 160, 320], 'displayName': '#dac_hero_name_gyrocopter', 'dota_unit_name': 'npc_dota_hero_gyrocopter', 'draftTier': 5, 'goldCost': 5, 'health': [1800, 3600, 7200], 'id': 51, 'hintWords': ['#dac_hero_hint_ranged', '#dac_hero_hint_high_group_damage'], 'keywords': 'dwarf inventor', 'magicResist': 0, 'maxmana': 100, 'model': 'models/heroes/gyro/gyro.vmdl', 'model_scale': 0.8, 'texturename': 'gyrocopter', 'soundSet': 'Hero_Gyrocopter', 'projectile_speed': 3000, 'projectile_model': 'particles/units/heroes/hero_gyrocopter/gyro_base_attack.vpcf', 'useConstantAnimationLayer': True, 'movespeed': 315, 'healthBarOffset': -35, 'legendary': {'bonus': 15.0, 'synergy': 'dwarf', 'description': '#dac_legendary_gyrocopter_desc', 'title': '#dac_legendary_title_gyrocopter'}}, 'juggernaut': {'abilities': ['juggernaut_blade_fury'], 'armor': 5, 'attackAnimationPoint': 0.33, 'attackRange': 1, 'attackRate': [1.0, 0.9, 0.8], 'damageMin': [65, 155, 280], 'damageMax': [70, 165, 300], 'displayName': '#dac_hero_name_juggernaut', 'dota_unit_name': 'npc_dota_hero_juggernaut', 'draftTier': 3, 'goldCost': 3, 'health': [1200, 2600, 4800], 'id': 15, 'hintWords': ['#dac_hero_hint_melee', '#dac_hero_hint_pbaoe_damage', '#dac_hero_hint_magic_immune_with_ability'], 'keywords': 'brawny warrior', 'magicResist': 0, 'maxmana': 100, 'model': 'models/heroes/juggernaut/juggernaut.vmdl', 'model_scale': 0.75, 'texturename': 'juggernaut', 'soundSet': 'Hero_Juggernaut', 'movespeed': 300, 'healthBarOffset': 10}, 'keeper_of_the_light': {'abilities': ['keeper_of_the_light_illuminate'], 'armor': 5, 'attackAnimationPoint': 0.3, 'attackRange': 4, 'attackRate': 1.7, 'damageMin': [40, 80, 160], 'damageMax': [45, 90, 180], 'displayName': '#dac_hero_name_keeper_of_the_light', 'dota_unit_name': 'npc_dota_hero_keeper_of_the_light', 'draftTier': 4, 'goldCost': 4, 'health': [1100, 2200, 4400], 'id': 43, 'hintWords': ['#dac_hero_hint_ranged', '#dac_hero_hint_high_group_damage', '#dac_hero_hint_long_cast_time'], 'keywords': 'human mage', 'magicResist': 0, 'maxmana': 100, 'model': 'models/heroes/keeper_of_the_light/keeper_of_the_light.vmdl', 'model_scale': 0.65, 'texturename': 'keeper_of_the_light', 'soundSet': 'Hero_KeeperOfTheLight', 'projectile_speed': 900, 'projectile_model': 'particles/units/heroes/hero_keeper_of_the_light/keeper_of_the_light_base_attack.vpcf', 'movespeed': 330, 'healthBarOffset': -20}, 'kunkka': {'abilities': ['kunkka_ghostship'], 'armor': 10, 'attackAnimationPoint': 0.4, 'attackRange': 1, 'attackRate': 1.4, 'damageMin': [75, 150, 300], 'damageMax': [90, 180, 360], 'displayName': '#dac_hero_name_kunkka', 'dota_unit_name': 'npc_dota_hero_kunkka', 'draftTier': 4, 'goldCost': 4, 'health': [1900, 3800, 7600], 'id': 41, 'hintWords': ['#dac_hero_hint_ranged', '#dac_hero_hint_group_stun'], 'keywords': 'human warrior', 'magicResist': 0, 'maxmana': 100, 'model': 'models/heroes/kunkka/kunkka.vmdl', 'model_scale': 0.7, 'texturename': 'kunkka', 'soundSet': 'Hero_Kunkka', 'movespeed': 300, 'healthBarOffset': -30}, 'lich': {'abilities': ['lich_chain_frost', 'lich_mage_bonus'], 'armor': 5, 'attackAnimationPoint': 0.46, 'attackRange': 3, 'attackRate': 1.5, 'damageMin': [40, 80, 160], 'damageMax': [45, 90, 180], 'displayName': '#dac_hero_name_lich', 'dota_unit_name': 'npc_dota_hero_lich', 'draftTier': 5, 'goldCost': 5, 'health': [1700, 3400, 6800], 'id': 52, 'hintWords': ['#dac_hero_hint_ranged', '#dac_hero_hint_high_group_damage', 'dac_hero_hint_chaining_damage_spell'], 'keywords': 'undead mage', 'magicResist': 20, 'maxmana': 100, 'model': 'models/heroes/lich/lich.vmdl', 'model_scale': 0.6, 'texturename': 'lich', 'soundSet': 'Hero_Lich', 'projectile_speed': 900, 'projectile_model': 'particles/units/heroes/hero_lich/lich_base_attack.vpcf', 'movespeed': 295, 'healthBarOffset': -80, 'legendary': {'bonus': 15.0, 'synergy': 'mage', 'description': '#dac_legendary_lich_desc', 'title': '#dac_legendary_title_lich'}}, 'lina': {'abilities': ['lina_laguna_blade'], 'armor': 5, 'attackAnimationPoint': 0.75, 'attackRange': 4, 'attackRate': 1.4, 'damageMin': [50, 100, 200], 'damageMax': [55, 110, 220], 'displayName': '#dac_hero_name_lina', 'dota_unit_name': 'npc_dota_hero_lina', 'draftTier': 3, 'goldCost': 3, 'health': [1200, 2400, 4800], 'id': 39, 'hintWords': ['#dac_hero_hint_ranged', '#dac_hero_hint_high_single_target_damage'], 'keywords': 'human mage', 'magicResist': 0, 'maxmana': 100, 'model': 'models/heroes/lina/lina.vmdl', 'model_scale': 0.6, 'texturename': 'lina', 'soundSet': 'Hero_Lina', 'projectile_speed': 1000, 'projectile_model': 'particles/units/heroes/hero_lina/lina_base_attack.vpcf', 'movespeed': 290, 'healthBarOffset': 0, 'death_modifier': 'modifier_lina_death', 'precache': ['particles/units/heroes/hero_lina/lina_death.vpcf']}, 'lone_druid': {'abilities': ['lone_druid_summon_bear'], 'armor': 0, 'attackAnimationPoint': 0.33, 'attackRange': 3, 'attackRate': 1.3, 'damageMin': [50, 100, 200], 'damageMax': [60, 120, 240], 'displayName': '#dac_hero_name_lone_druid', 'dota_unit_name': 'npc_dota_hero_lone_druid', 'draftTier': 4, 'goldCost': 4, 'health': [1600, 3200, 6000], 'id': 50, 'hintWords': ['#dac_hero_hint_ranged', '#dac_hero_hint_summons_strong_ally'], 'keywords': 'savage druid', 'magicResist': 20, 'maxmana': 60, 'model': 'models/heroes/lone_druid/lone_druid.vmdl', 'model_scale': 0.7, 'texturename': 'lone_druid', 'soundSet': 'Hero_LoneDruid', 'projectile_speed': 900, 'projectile_model': 'particles/units/heroes/hero_lone_druid/lone_druid_base_attack.vpcf', 'movespeed': 325, 'healthBarOffset': -20, 'aiIsMelee': True}, 'luna': {'abilities': ['luna_moon_glaive'], 'armor': 5, 'attackAnimationPoint': 0.46, 'attackRange': 3, 'attackRate': 1.3, 'damageMin': [50, 120, 200], 'damageMax': [60, 144, 240], 'displayName': '#dac_hero_name_luna', 'dota_unit_name': 'npc_dota_hero_luna', 'draftTier': 2, 'goldCost': 2, 'health': [1000, 2000, 4000], 'id': 24, 'hintWords': ['#dac_hero_hint_ranged', '#dac_hero_hint_attacks_bounce'], 'keywords': 'elf knight', 'magicResist': 0, 'maxmana': 100, 'model': 'models/heroes/luna/luna.vmdl', 'model_scale': 0.65, 'texturename': 'luna', 'soundSet': 'Hero_Luna', 'projectile_speed': 900, 'projectile_model': 'particles/units/heroes/hero_luna/luna_base_attack.vpcf', 'movespeed': 325, 'healthBarOffset': -60, 'aiPassiveAbility': True}, 'lycan': {'abilities': ['lycan_wolf_spawn_shift'], 'armor': 5, 'attackAnimationPoint': 0.55, 'attackRange': 1, 'attackRate': 1.1, 'damageMin': [65, 130, 312], 'damageMax': [78, 156, 375], 'displayName': '#dac_hero_name_lycan', 'dota_unit_name': 'npc_dota_hero_lycan', 'draftTier': 3, 'goldCost': 3, 'health': [1500, 3000, 7200], 'id': 26, 'hintWords': ['#dac_hero_hint_melee', '#dac_hero_hint_transforms'], 'keywords': 'human savage hunter', 'magicResist': 0, 'maxmana': 100, 'model': 'models/heroes/lycan/lycan.vmdl', 'model_scale': 0.7, 'texturename': 'lycan', 'soundSet': 'Hero_Lycan', 'movespeed': 315, 'healthBarOffset': -40}, 'medusa': {'abilities': ['medusa_stone_gaze', 'medusa_split_shot', 'medusa_hunter_bonus'], 'armor': 5, 'attackAnimationPoint': 0.3, 'attackRange': 3, 'attackRate': 1, 'damageMin': [75, 150, 300], 'damageMax': [80, 160, 320], 'displayName': '#dac_hero_name_medusa', 'dota_unit_name': 'npc_dota_hero_medusa', 'draftTier': 5, 'goldCost': 5, 'health': [1700, 3400, 6600], 'id': 48, 'hintWords': ['#dac_hero_hint_ranged', '#dac_hero_hint_group_stun'], 'keywords': 'naga hunter', 'magicResist': 10, 'maxmana': 100, 'model': 'models/heroes/medusa/medusa.vmdl', 'model_scale': 0.7, 'texturename': 'medusa', 'soundSet': 'Hero_Medusa', 'projectile_speed': 1200, 'projectile_model': 'particles/units/heroes/hero_medusa/medusa_base_attack.vpcf', 'movespeed': 275, 'healthBarOffset': -10, 'legendary': {'bonus': 15.0, 'synergy': 'hunter', 'description': '#dac_legendary_medusa_desc', 'title': '#dac_legendary_title_medusa'}}, 'morphling': {'abilities': ['morphling_waveform'], 'armor': 5, 'attackAnimationPoint': 0.5, 'attackRange': 3, 'attackRate': 1.1, 'damageMin': [45, 90, 180], 'damageMax': [60, 120, 240], 'displayName': '#dac_hero_name_morphling', 'dota_unit_name': 'npc_dota_hero_morphling', 'draftTier': 3, 'goldCost': 3, 'health': [1250, 2500, 4000], 'id': 23, 'hintWords': ['#dac_hero_hint_ranged', '#dac_hero_hint_teleport_movement', '#dac_hero_hint_line_damage'], 'keywords': 'primordial mage', 'magicResist': 0, 'maxmana': 75, 'model': 'models/heroes/morphling/morphling.vmdl', 'model_scale': 0.6, 'texturename': 'morphling', 'soundSet': 'Hero_Morphling', 'projectile_speed': 1300, 'projectile_model': 'particles/units/heroes/hero_morphling/morphling_base_attack.vpcf', 'useConstantAnimationLayer': True, 'movespeed': 280, 'healthBarOffset': -10, 'precache': ['particles/units/heroes/hero_morphling/morphling_dissolve.vpcf', 'particles/units/heroes/hero_morphling/morphling_apear.vpcf']}, 'necrophos': {'abilities': ['necrophos_death_pulse'], 'armor': 5, 'attackAnimationPoint': 0.3, 'attackRange': 3, 'attackRate': 1.2, 'damageMin': [50, 100, 200], 'damageMax': [60, 120, 240], 'displayName': '#dac_hero_name_necrophos', 'dota_unit_name': 'npc_dota_hero_necrolyte', 'draftTier': 4, 'goldCost': 4, 'health': [1700, 3400, 6800], 'id': 44, 'hintWords': ['#dac_hero_hint_ranged', '#dac_hero_hint_aoe_damage', '#dac_hero_hint_healer'], 'keywords': 'undead healer', 'magicResist': 0, 'maxmana': 100, 'model': 'models/heroes/necrolyte/necrolyte.vmdl', 'model_scale': 0.6, 'texturename': 'necrolyte', 'soundSet': 'Hero_Necrolyte', 'projectile_speed': 900, 'projectile_model': 'particles/units/heroes/hero_necrolyte/necrolyte_base_attack.vpcf', 'movespeed': 280, 'healthBarOffset': -10}, 'ogre_magi': {'abilities': ['ogre_magi_bloodlust'], 'armor': 5, 'attackAnimationPoint': 0.3, 'attackRange': 1, 'attackRate': 1.4, 'damageMin': [55, 110, 220], 'damageMax': [65, 130, 260], 'displayName': '#dac_hero_name_ogre_magi', 'dota_unit_name': 'npc_dota_hero_ogre_magi', 'draftTier': 2, 'goldCost': 2, 'health': [1600, 3200, 6000], 'id': 3, 'hintWords': ['#dac_hero_hint_melee', '#dac_hero_hint_buffs_allies_attack_speed'], 'keywords': 'ogre brutal mage', 'magicResist': 0, 'maxmana': 0, 'model': 'models/heroes/ogre_magi/ogre_magi.vmdl', 'model_scale': 0.75, 'texturename': 'ogre_magi', 'soundSet': 'Hero_OgreMagi', 'movespeed': 290, 'healthBarOffset': -15}, 'omniknight': {'abilities': ['omniknight_purification'], 'armor': 10, 'attackAnimationPoint': 0.433, 'attackRange': 1, 'attackRate': 1.4, 'damageMin': [40, 80, 190], 'damageMax': [50, 100, 240], 'displayName': '#dac_hero_name_omniknight', 'dota_unit_name': 'npc_dota_hero_omniknight', 'draftTier': 3, 'goldCost': 3, 'health': [1610, 3220, 7728], 'id': 28, 'hintWords': ['#dac_hero_hint_melee', '#dac_hero_hint_healer_single', 'dac_hero_hint_omni_heal'], 'keywords': 'human knight healer', 'magicResist': 0, 'maxmana': 60, 'model': 'models/heroes/omniknight/omniknight.vmdl', 'model_scale': 0.6, 'texturename': 'omniknight', 'soundSet': 'Hero_OmniKnight', 'movespeed': 300, 'healthBarOffset': -15}, 'phantom_assassin': {'abilities': ['phantom_assassin_coup_de_grace'], 'baseclass': 'dac_npc_assassin', 'assassin_modifier': 'assassin_modifier_phantom_assassin', 'armor': 5, 'attackAnimationPoint': 0.3, 'attackRange': 1, 'attackRate': 1.2, 'damageMin': [70, 140, 300], 'damageMax': [90, 180, 400], 'displayName': '#dac_hero_name_phantom_assassin', 'dota_unit_name': 'npc_dota_hero_phantom_assassin', 'draftTier': 3, 'goldCost': 3, 'health': [1100, 1980, 4400], 'id': 31, 'hintWords': ['#dac_hero_hint_melee', 'dac_hero_hint_high_single_target_damage'], 'keywords': 'elf assassin', 'magicResist': 0, 'maxmana': 100, 'model': 'models/heroes/phantom_assassin/phantom_assassin.vmdl', 'model_scale': 0.65, 'texturename': 'phantom_assassin', 'soundSet': 'Hero_PhantomAssassin', 'movespeed': 305, 'precache': ['particles/units/heroes/hero_phantom_assassin/phantom_assassin_phantom_strike_start.vpcf', 'particles/units/heroes/hero_phantom_assassin/phantom_assassin_phantom_strike_end.vpcf'], 'healthBarOffset': -50, 'aiPassiveAbility': True}, 'puck': {'abilities': ['puck_illusory_orb'], 'extra_abilities': ['puck_phase_shift'], 'armor': 5, 'attackAnimationPoint': 0.5, 'attackRange': 3, 'attackRate': 1.7, 'damageMin': [40, 80, 160], 'damageMax': [50, 100, 200], 'displayName': '#dac_hero_name_puck', 'dota_unit_name': 'npc_dota_hero_puck', 'draftTier': 2, 'goldCost': 2, 'health': [900, 1800, 3600], 'id': 18, 'hintWords': ['#dac_hero_hint_ranged', '#dac_hero_hint_dragon', 'dac_hero_hint_line_damage'], 'keywords': 'elf dragon mage', 'magicResist': 0, 'maxmana': 60, 'model': 'models/heroes/puck/puck.vmdl', 'model_scale': 0.65, 'texturename': 'puck', 'soundSet': 'Hero_Puck', 'projectile_speed': 900, 'projectile_model': 'particles/units/heroes/hero_puck/puck_base_attack.vpcf', 'useConstantAnimationLayer': True, 'movespeed': 290, 'healthBarOffset': -10}, 'queen_of_pain': {'abilities': ['queenofpain_scream_of_pain'], 'baseclass': 'dac_npc_assassin', 'assassin_modifier': 'assassin_modifier_queen_of_pain', 'armor': 5, 'attackAnimationPoint': 0.56, 'attackRange': 3, 'attackRate': 1.2, 'damageMin': [55, 110, 220], 'damageMax': [60, 120, 240], 'displayName': '#dac_hero_name_queen_of_pain', 'dota_unit_name': 'npc_dota_hero_queenofpain', 'draftTier': 2, 'goldCost': 2, 'health': [1100, 1980, 4400], 'id': 17, 'hintWords': ['#dac_hero_hint_ranged', 'dac_hero_hint_close_aoe_damage'], 'keywords': 'demon assassin', 'magicResist': 0, 'maxmana': 100, 'model': 'models/heroes/queenofpain/queenofpain.vmdl', 'model_scale': 0.7, 'texturename': 'queenofpain', 'soundSet': 'Hero_QueenOfPain', 'projectile_speed': 1500, 'projectile_model': 'particles/units/heroes/hero_queenofpain/queen_base_attack.vpcf', 'movespeed': 290, 'precache': ['particles/units/heroes/hero_queenofpain/queen_blink_start.vpcf', 'particles/units/heroes/hero_queenofpain/queen_blink_end.vpcf'], 'healthBarOffset': -40}, 'razor': {'abilities': ['razor_plasma_field'], 'armor': 5, 'attackAnimationPoint': 0.3, 'attackRange': 3, 'attackRate': 1.1, 'damageMin': [40, 80, 160], 'damageMax': [50, 100, 200], 'displayName': '#dac_hero_name_razor', 'dota_unit_name': 'npc_dota_hero_razor', 'draftTier': 1, 'goldCost': 1, 'health': [1000, 2000, 4000], 'id': 29, 'hintWords': ['#dac_hero_hint_ranged', 'dac_hero_hint_aoe_damage'], 'keywords': 'primordial mage', 'magicResist': 0, 'maxmana': 100, 'model': 'models/heroes/razor/razor.vmdl', 'model_scale': 0.7, 'texturename': 'razor', 'soundSet': 'Hero_Razor', 'projectile_speed': 2000, 'projectile_model': 'particles/units/heroes/hero_razor/razor_base_attack.vpcf', 'movespeed': 285, 'healthBarOffset': -80, 'aiAura': True}, 'sand_king': {'abilities': ['sandking_burrowstrike', 'sandking_caustic_finale'], 'armor': 10, 'attackAnimationPoint': 0.53, 'attackRange': 1, 'attackRate': 1.4, 'damageMin': [70, 140, 270], 'damageMax': [80, 160, 320], 'displayName': '#dac_hero_name_sand_king', 'dota_unit_name': 'npc_dota_hero_sand_king', 'draftTier': 4, 'goldCost': 4, 'health': [1500, 3000, 6400], 'id': 33, 'hintWords': ['#dac_hero_hint_melee', 'dac_hero_hint_line_damage', 'dac_hero_hint_line_stun'], 'keywords': 'savage insect', 'magicResist': 0, 'maxmana': 100, 'model': 'models/heroes/sand_king/sand_king.vmdl', 'model_scale': 0.55, 'texturename': 'sand_king', 'soundSet': 'Hero_SandKing', 'movespeed': 290, 'healthBarOffset': 0, 'precache': ['particles/units/heroes/hero_sandking/sandking_burrow.vpcf']}, 'shadow_fiend': {'abilities': ['shadow_fiend_requiem'], 'armor': 5, 'attackAnimationPoint': 0.5, 'attackRange': 3, 'attackRate': 1.1, 'damageMin': [77, 154, 369], 'damageMax': [88, 176, 422], 'displayName': '#dac_hero_name_shadow_fiend', 'dota_unit_name': 'npc_dota_hero_nevermore', 'draftTier': 3, 'goldCost': 3, 'health': [900, 1800, 3600], 'id': 38, 'hintWords': ['#dac_hero_hint_ranged', 'dac_hero_hint_high_group_damage', 'dac_hero_hint_aoe_damage', 'dac_hero_hint_long_cast_time'], 'keywords': 'demon warlock', 'magicResist': 0, 'maxmana': 100, 'model': 'models/heroes/shadow_fiend/shadow_fiend.vmdl', 'model_scale': 0.7, 'texturename': 'nevermore', 'soundSet': 'Hero_Nevermore', 'projectile_speed': 1200, 'projectile_model': 'particles/units/heroes/hero_nevermore/nevermore_base_attack.vpcf', 'movespeed': 305, 'healthBarOffset': -20, 'aiAura': True}, 'shadow_shaman': {'abilities': ['shadow_shaman_voodoo'], 'armor': 5, 'attackAnimationPoint': 0.3, 'attackRange': 3, 'attackRate': 1.25, 'damageMin': [40, 80, 160], 'damageMax': [50, 100, 200], 'displayName': '#dac_hero_name_shadow_shaman', 'dota_unit_name': 'npc_dota_hero_shadow_shaman', 'draftTier': 1, 'goldCost': 1, 'health': [1100, 2200, 4400], 'id': 8, 'hintWords': ['#dac_hero_hint_ranged', 'dac_hero_hint_single_target_chicken'], 'keywords': 'troll shaman', 'magicResist': 0, 'maxmana': 70, 'model': 'models/heroes/shadowshaman/shadowshaman.vmdl', 'model_scale': 0.7, 'texturename': 'shadow_shaman', 'soundSet': 'Hero_ShadowShaman', 'projectile_speed': 900, 'projectile_model': 'particles/units/heroes/hero_shadowshaman/shadowshaman_base_attack.vpcf', 'movespeed': 285, 'healthBarOffset': 60}, 'slardar': {'abilities': ['slardar_amplify_damage'], 'armor': 5, 'attackAnimationPoint': 0.36, 'attackRange': 1, 'attackRate': 1.2, 'damageMin': [70, 140, 280], 'damageMax': [100, 200, 400], 'displayName': '#dac_hero_name_slardar', 'dota_unit_name': 'npc_dota_hero_slardar', 'draftTier': 2, 'goldCost': 2, 'health': [1300, 2600, 5200], 'id': 20, 'hintWords': ['#dac_hero_hint_melee', 'dac_hero_hint_single_target_armor_down'], 'keywords': 'naga warrior', 'magicResist': 0, 'maxmana': 75, 'model': 'models/heroes/slardar/slardar.vmdl', 'model_scale': 0.6, 'texturename': 'slardar', 'soundSet': 'Hero_Slardar', 'movespeed': 290, 'healthBarOffset': -40}, 'slark': {'abilities': ['slark_essence_shift', 'slark_pounce'], 'baseclass': 'dac_npc_assassin', 'assassin_modifier': 'assassin_modifier_slark', 'armor': 5, 'attackAnimationPoint': 0.5, 'attackRange': 1, 'attackRate': [1, 0.8, 0.6], 'damageMin': [50, 72, 126], 'damageMax': [60, 92, 174], 'displayName': '#dac_hero_name_slark', 'dota_unit_name': 'npc_dota_hero_slark', 'draftTier': 3, 'goldCost': 3, 'health': [1000, 1800, 4800], 'id': 34, 'hintWords': ['#dac_hero_hint_melee', 'dac_hero_hint_jumping_movement', 'dac_hero_hint_ramping_damage'], 'keywords': 'naga assassin', 'magicResist': 0, 'maxmana': 100, 'model': 'models/heroes/slark/slark.vmdl', 'model_scale': 0.6, 'texturename': 'slark', 'soundSet': 'Hero_Slark', 'movespeed': 300, 'healthBarOffset': -20, 'aiPassiveAbility': True}, 'sniper': {'abilities': ['sniper_assassinate'], 'armor': 5, 'attackAnimationPoint': 0.17, 'attackRange': 7, 'attackRate': [1.6, 1.6, 1.3], 'damageMin': [125, 180, 396], 'damageMax': [150, 210, 432], 'displayName': '#dac_hero_name_sniper', 'dota_unit_name': 'npc_dota_hero_sniper', 'draftTier': 3, 'goldCost': 3, 'health': [900, 1800, 4320], 'id': 35, 'hintWords': ['#dac_hero_hint_ranged', 'dac_hero_hint_long_cast_time', 'dac_hero_hint_high_single_target_damage'], 'keywords': 'goblin dwarf hunter', 'magicResist': 0, 'maxmana': 100, 'model': 'models/heroes/sniper/sniper.vmdl', 'model_scale': 0.7, 'texturename': 'sniper', 'soundSet': 'Hero_Sniper', 'projectile_speed': 3000, 'projectile_model': 'particles/units/heroes/hero_sniper/sniper_base_attack.vpcf', 'movespeed': 285, 'healthBarOffset': 10}, 'techies': {'abilities': ['techies_bomb', 'techies_inventor_bonus'], 'armor': 10, 'attackAnimationPoint': 0.5, 'attackRange': 4, 'attackRate': 1.5, 'damageMin': [45, 90, 180], 'damageMax': [55, 110, 220], 'displayName': '#dac_hero_name_techies', 'dota_unit_name': 'npc_dota_hero_techies', 'draftTier': 5, 'goldCost': 5, 'health': [2000, 4000, 8000], 'id': 55, 'hintWords': ['#dac_hero_hint_ranged', 'dac_hero_hint_long_cast_time', 'dac_hero_hint_aoe_damage'], 'keywords': 'goblin inventor', 'magicResist': 0, 'maxmana': 100, 'model': 'models/heroes/techies/techies.vmdl', 'model_scale': 0.4, 'texturename': 'techies', 'soundSet': 'Hero_Techies', 'projectile_speed': 900, 'projectile_model': 'particles/units/heroes/hero_techies/techies_base_attack.vpcf', 'movespeed': 310, 'healthBarOffset': -50, 'aiIsMelee': True, 'legendary': {'bonus': 15.0, 'synergy': 'inventor', 'description': '#dac_legendary_techies_desc', 'title': '#dac_legendary_title_techies'}}, 'templar_assassin': {'abilities': ['templar_assassin_refraction', 'templar_assassin_meld'], 'baseclass': 'dac_npc_assassin', 'assassin_modifier': 'assassin_modifier_templar_assassin', 'armor': 5, 'attackAnimationPoint': 0.3, 'attackRange': 3, 'attackRate': 1.2, 'damageMin': [90, 180, 360], 'damageMax': [110, 220, 440], 'displayName': '#dac_hero_name_templar_assassin', 'dota_unit_name': 'npc_dota_hero_templar_assassin', 'draftTier': 4, 'goldCost': 4, 'health': [1500, 2700, 6000], 'id': 45, 'hintWords': ['#dac_hero_hint_ranged', 'dac_hero_hint_teleport_movement', 'dac_hero_hint_self_shield'], 'keywords': 'elf assassin', 'magicResist': 0, 'maxmana': 100, 'model': 'models/heroes/lanaya/lanaya.vmdl', 'model_scale': 0.6, 'texturename': 'templar_assassin', 'soundSet': 'Hero_TemplarAssassin', 'projectile_speed': 900, 'projectile_model': 'particles/units/heroes/hero_templar_assassin/templar_assassin_base_attack.vpcf', 'movespeed': 305, 'precache': ['particles/units/heroes/hero_templar_assassin/templar_assassin_meld_start.vpcf', 'particles/units/heroes/hero_templar_assassin/templar_assassin_meld_end.vpcf'], 'healthBarOffset': -50}, 'terrorblade': {'abilities': ['terrorblade_metamorph'], 'armor': 5, 'attackAnimationPoint': 0.3, 'attackRange': 1, 'attackRate': 1.4, 'damageMin': [45, 90, 216], 'damageMax': [65, 130, 312], 'displayName': '#dac_hero_name_terrorblade', 'dota_unit_name': 'npc_dota_hero_terrorblade', 'draftTier': 3, 'goldCost': 3, 'health': [1300, 2600, 6240], 'id': 36, 'hintWords': ['#dac_hero_hint_melee', 'dac_hero_hint_transforms', 'dac_hero_hint_high_single_target_damage'], 'keywords': 'demon hunter', 'magicResist': [10, 20, 30], 'maxmana': 100, 'model': 'models/heroes/terrorblade/terrorblade.vmdl', 'model_scale': 0.65, 'texturename': 'terrorblade', 'soundSet': 'Hero_Terrorblade', 'movespeed': 310, 'healthBarOffset': -10, 'projectile_speed': 900, 'precache': ['particles/units/heroes/hero_terrorblade/terrorblade_metamorphosis_base_attack.vpcf']}, 'tidehunter': {'abilities': ['tidehunter_ravage'], 'armor': 10, 'attackAnimationPoint': 0.6, 'attackRange': 1, 'attackRate': 2, 'damageMin': [60, 120, 250], 'damageMax': [70, 150, 300], 'displayName': '#dac_hero_name_tide_hunter', 'dota_unit_name': 'npc_dota_hero_tidehunter', 'draftTier': 4, 'goldCost': 4, 'health': [2200, 5400, 11000], 'id': 53, 'hintWords': ['#dac_hero_hint_melee', 'dac_hero_hint_group_stun'], 'keywords': 'naga warrior', 'magicResist': 0, 'maxmana': 100, 'model': 'models/heroes/tidehunter/tidehunter.vmdl', 'model_scale': 0.6, 'texturename': 'tidehunter', 'soundSet': 'Hero_tidehunter', 'movespeed': 300, 'healthBarOffset': -35, 'aiAura': True}, 'timbersaw': {'abilities': ['timbersaw_whirling_death'], 'armor': [6, 8, 10], 'attackAnimationPoint': 0.36, 'attackRange': 1, 'attackRate': 1.4, 'damageMin': [55, 110, 220], 'damageMax': [60, 120, 240], 'displayName': '#dac_hero_name_timbersaw', 'dota_unit_name': 'npc_dota_hero_shredder', 'draftTier': 2, 'goldCost': 2, 'health': [1600, 3200, 6400], 'id': 16, 'hintWords': ['#dac_hero_hint_melee', 'dac_hero_hint_pbaoe_damage'], 'keywords': 'goblin inventor', 'magicResist': 0, 'maxmana': 100, 'model': 'models/heroes/shredder/shredder.vmdl', 'model_scale': 0.6, 'texturename': 'shredder', 'soundSet': 'Hero_Shredder', 'useConstantAnimationLayer': True, 'movespeed': 290, 'healthBarOffset': -15, 'aiAura': True}, 'tinker': {'abilities': ['tinker_heat_seeking_missile'], 'armor': 5, 'attackAnimationPoint': 0.36, 'attackRange': 4, 'attackRate': 1.3, 'damageMin': [60, 120, 270], 'damageMax': [72, 144, 330], 'displayName': '#dac_hero_name_tinker', 'dota_unit_name': 'npc_dota_hero_tinker', 'draftTier': 3, 'goldCost': 3, 'health': [1500, 3000, 7000], 'id': 10, 'hintWords': ['#dac_hero_hint_ranged', 'dac_hero_hint_multiple_damage'], 'keywords': 'goblin inventor', 'magicResist': 0, 'maxmana': 100, 'model': 'models/heroes/tinker/tinker.vmdl', 'model_scale': 0.55, 'texturename': 'tinker', 'projectile_speed': 900, 'projectile_model': 'particles/units/heroes/hero_tinker/tinker_base_attack.vpcf', 'movespeed': 290, 'healthBarOffset': 15}, 'tiny': {'abilities': ['tiny_toss'], 'armor': 5, 'attackAnimationPoint': 0.4, 'attackRange': 1, 'attackRate': 1.9, 'damageMin': [60, 120, 240], 'damageMax': [100, 200, 400], 'displayName': '#dac_hero_name_tiny', 'dota_unit_name': 'npc_dota_hero_tiny', 'draftTier': 1, 'goldCost': 1, 'health': [1300, 2600, 5200], 'id': 12, 'hintWords': ['#dac_hero_hint_melee', 'dac_hero_hint_attacks_slowly', 'dac_hero_hint_line_stun'], 'keywords': 'primordial warrior', 'magicResist': 0, 'maxmana': 100, 'model': ['models/heroes/tiny_01/tiny_01.vmdl', 'models/heroes/tiny_02/tiny_02.vmdl', 'models/heroes/tiny_03/tiny_03.vmdl'], 'model_scale': 0.85, 'texturename': 'tiny', 'soundSet': 'Hero_Tiny', 'movespeed': 290, 'healthBarOffset': 95}, 'treant_protector': {'abilities': ['treant_leech_seed'], 'armor': 5, 'attackAnimationPoint': 0.6, 'attackRange': 1, 'attackRate': 2, 'damageMin': [60, 120, 240], 'damageMax': [90, 180, 360], 'displayName': '#dac_hero_name_treant_protector', 'dota_unit_name': 'npc_dota_hero_treant', 'draftTier': 3, 'goldCost': 3, 'health': [1500, 3000, 5000], 'id': 22, 'hintWords': ['#dac_hero_hint_melee', 'dac_hero_hint_attacks_slowly', 'dac_hero_hint_healer'], 'keywords': 'druid brutal', 'magicResist': 0, 'maxmana': 100, 'model': 'models/heroes/treant_protector/treant_protector.vmdl', 'model_scale': 0.65, 'texturename': 'treant', 'soundSet': 'Hero_Treant', 'movespeed': 270, 'healthBarOffset': -75}, 'troll_warlord': {'abilities': ['troll_warlord_fervor', 'troll_warlord_troll_bonus'], 'armor': 5, 'attackAnimationPoint': 0.3, 'attackRange': 3, 'attackRate': 1.3, 'damageMin': [180, 360, 520], 'damageMax': [200, 400, 600], 'displayName': '#dac_hero_name_troll_warlord', 'dota_unit_name': 'npc_dota_hero_troll_warlord', 'draftTier': 5, 'goldCost': 5, 'health': [2400, 4000, 8000], 'id': 42, 'hintWords': ['#dac_hero_hint_ranged', 'dac_hero_hint_ramping_damage'], 'keywords': 'troll warrior', 'magicResist': 0, 'maxmana': 100, 'model': 'models/heroes/troll_warlord/troll_warlord.vmdl', 'model_scale': 0.6, 'texturename': 'troll_warlord', 'soundSet': 'Hero_TrollWarlord', 'projectile_speed': 1200, 'projectile_model': 'particles/units/heroes/hero_troll_warlord/troll_warlord_base_attack.vpcf', 'movespeed': 290, 'healthBarOffset': -30, 'aiPassiveAbility': True, 'legendary': {'bonus': 15.0, 'synergy': 'troll', 'description': '#dac_legendary_warlord_desc', 'title': '#dac_legendary_title_warlord'}}, 'tusk': {'abilities': ['tusk_walrus_punch'], 'armor': 5, 'attackAnimationPoint': 0.36, 'attackRange': 1, 'attackRate': 1.2, 'damageMin': [50, 100, 200], 'damageMax': [55, 110, 220], 'displayName': '#dac_hero_name_tusk', 'dota_unit_name': 'npc_dota_hero_tusk', 'draftTier': 1, 'goldCost': 1, 'health': [1400, 2800, 5600], 'id': 4, 'hintWords': ['#dac_hero_hint_melee', 'dac_hero_hint_walrus', 'dac_hero_hint_high_single_target_damage'], 'keywords': 'savage warrior', 'magicResist': 0, 'maxmana': 60, 'model': 'models/heroes/tuskarr/tuskarr.vmdl', 'model_scale': 0.6, 'texturename': 'tusk', 'soundSet': 'Hero_Tusk', 'movespeed': 300, 'healthBarOffset': -50}, 'venomancer': {'abilities': ['venomancer_venomous_gale'], 'armor': 0, 'attackAnimationPoint': 0.3, 'attackRange': 3, 'attackRate': 1.2, 'damageMin': [50, 100, 200], 'damageMax': [55, 110, 220], 'displayName': '#dac_hero_name_venomancer', 'dota_unit_name': 'npc_dota_hero_venomancer', 'draftTier': 1, 'goldCost': 1, 'health': [1000, 2000, 4000], 'id': 27, 'hintWords': ['#dac_hero_hint_ranged', 'dac_hero_hint_line_damage'], 'keywords': 'savage warlock naga', 'magicResist': 20, 'maxmana': 100, 'model': 'models/heroes/venomancer/venomancer.vmdl', 'model_scale': 0.45, 'texturename': 'venomancer', 'soundSet': 'Hero_Venomancer', 'projectile_speed': 900, 'projectile_model': 'particles/units/heroes/hero_venomancer/venomancer_base_attack.vpcf', 'movespeed': 275, 'healthBarOffset': -30}, 'viper': {'abilities': ['viper_nethertoxin'], 'extra_abilities': ['viper_corrosive_skin'], 'armor': 5, 'attackAnimationPoint': 0.33, 'attackRange': 3, 'attackRate': 1, 'damageMin': [50, 100, 240], 'damageMax': [60, 120, 360], 'displayName': '#dac_hero_name_viper', 'dota_unit_name': 'npc_dota_hero_viper', 'draftTier': 3, 'goldCost': 3, 'health': [1100, 2200, 6000], 'id': 37, 'hintWords': ['#dac_hero_hint_ranged', 'dac_hero_hint_dragon', 'dac_hero_hint_strong_single_debuff'], 'keywords': 'naga dragon', 'magicResist': 20, 'maxmana': 50, 'model': 'models/heroes/viper/viper.vmdl', 'model_scale': 0.45, 'texturename': 'viper', 'soundSet': 'Hero_Viper', 'projectile_speed': 1200, 'projectile_model': 'particles/units/heroes/hero_viper/viper_base_attack.vpcf', 'movespeed': 275, 'healthBarOffset': -40}, 'wind_ranger': {'abilities': ['windrunner_powershot'], 'armor': 5, 'attackAnimationPoint': 0.4, 'attackRange': 4, 'attackRate': 0.9, 'damageMin': [50, 100, 230], 'damageMax': [60, 120, 260], 'displayName': '#dac_hero_name_wind_ranger', 'dota_unit_name': 'npc_dota_hero_windrunner', 'draftTier': 2, 'goldCost': 2, 'health': [1100, 2200, 4600], 'id': 30, 'hintWords': ['#dac_hero_hint_ranged', 'dac_hero_hint_line_damage'], 'keywords': 'elf hunter', 'magicResist': 0, 'maxmana': 100, 'model': 'models/heroes/windrunner/windrunner.vmdl', 'model_scale': 0.75, 'texturename': 'windrunner', 'soundSet': 'Hero_Windrunner', 'projectile_speed': 1250, 'projectile_model': 'particles/units/heroes/hero_windrunner/windrunner_base_attack.vpcf', 'movespeed': 290, 'healthBarOffset': 0}, 'witch_doctor': {'abilities': ['witch_doctor_paralyzing_cask'], 'armor': 5, 'attackAnimationPoint': 0.3, 'attackRange': 3, 'attackRate': 1.4, 'damageMin': [40, 80, 160], 'damageMax': [50, 100, 200], 'displayName': '#dac_hero_name_witch_doctor', 'dota_unit_name': 'npc_dota_hero_witch_doctor', 'draftTier': 2, 'goldCost': 2, 'health': [1100, 2200, 4400], 'id': 19, 'hintWords': ['#dac_hero_hint_ranged', 'dac_hero_hint_chaining_damage_spell', 'dac_hero_hint_line_stun'], 'keywords': 'troll warlock', 'magicResist': 0, 'maxmana': 100, 'model': 'models/heroes/witchdoctor/witchdoctor.vmdl', 'model_scale': 0.6, 'texturename': 'witch_doctor', 'soundSet': 'Hero_WitchDoctor', 'projectile_speed': 1200, 'projectile_model': 'particles/units/heroes/hero_witchdoctor/witchdoctor_base_attack.vpcf', 'movespeed': 300, 'healthBarOffset': -30}, 'pudge': {'abilities': ['pudge_meathook'], 'armor': 5, 'attackAnimationPoint': 0.5, 'attackRange': 1, 'attackRate': 1.7, 'damageMin': [45, 90, 135], 'damageMax': [55, 110, 165], 'displayName': '#dac_hero_name_pudge', 'dota_unit_name': 'npc_dota_hero_pudge', 'draftTier': 2, 'goldCost': 2, 'health': [2000, 5000, 9350], 'id': 81, 'hintWords': ['#dac_hero_hint_melee', 'dac_hero_hint_tanky', 'dac_hero_hint_hooks_enemies'], 'keywords': 'undead warrior', 'magicResist': 5, 'maxmana': 100, 'model': 'models/heroes/pudge/pudge.vmdl', 'model_scale': 0.7, 'texturename': 'pudge', 'soundSet': 'Hero_Pudge', 'movespeed': 280, 'healthBarOffset': -40}, 'warlock': {'abilities': ['warlock_shadow_word'], 'armor': 0, 'attackAnimationPoint': 0.3, 'attackRange': 4, 'attackRate': 1.7, 'projectile_speed': 1200, 'projectile_model': 'particles/units/heroes/hero_warlock/warlock_base_attack.vpcf', 'damageMin': [40, 80, 160], 'damageMax': [60, 120, 220], 'displayName': '#dac_hero_name_warlock', 'dota_unit_name': 'npc_dota_hero_warlock', 'draftTier': 1, 'goldCost': 1, 'health': [1300, 2900, 5700], 'id': 82, 'hintWords': ['#dac_hero_hint_ranged', 'dac_hero_hint_heal_or_damage'], 'keywords': 'ogre warlock healer', 'magicResist': 0, 'maxmana': 100, 'model': 'models/heroes/warlock/warlock.vmdl', 'model_scale': 0.7, 'texturename': 'warlock', 'soundSet': 'Hero_Warlock', 'movespeed': 290, 'healthBarOffset': -40}, 'bloodseeker': {'abilities': ['bloodseeker_blood_rage'], 'baseclass': 'dac_npc_bloodseeker', 'armor': 0, 'attackAnimationPoint': 0.43, 'attackRange': 1, 'attackRate': 1.7, 'damageMin': [40, 100, 160], 'damageMax': [60, 120, 190], 'displayName': '#dac_hero_name_bloodseeker', 'dota_unit_name': 'npc_dota_hero_bloodseeker', 'draftTier': 1, 'goldCost': 1, 'health': [1200, 2400, 4600], 'id': 83, 'hintWords': ['#dac_hero_hint_melee', 'dac_hero_hint_bloodseeker'], 'keywords': 'ogre dwarf', 'magicResist': 20, 'maxmana': 100, 'model': 'models/heroes/blood_seeker/bloodseeker.vmdl', 'model_scale': 0.6, 'texturename': 'bloodseker', 'soundSet': 'Hero_BloodSeeker', 'movespeed': 850, 'ignore_ms_limit': 1, 'precache': ['particles/units/heroes/hero_bloodseeker/bloodseeker_rupture.vpcf'], 'healthBarOffset': 20, 'aiPassiveAbility': True}, 'arc_warden': {'abilities': ['arc_warden_tempest_double'], 'baseclass': 'dac_npc_arc_warden', 'armor': 5, 'projectile_speed': 900, 'projectile_model': 'particles/units/heroes/hero_arc_warden/arc_warden_base_attack.vpcf', 'attackAnimationPoint': 0.3, 'attackRange': 4, 'attackRate': [1.0, 1.0, 1.0], 'damageMin': [75, 150, 300], 'damageMax': [85, 170, 350], 'displayName': '#dac_hero_name_arc_warden', 'dota_unit_name': 'npc_dota_hero_arc_warden', 'draftTier': 4, 'goldCost': 4, 'health': [1200, 2400, 4800], 'id': 84, 'hintWords': ['#dac_hero_hint_ranged', 'dac_hero_hint_self_copy'], 'keywords': 'primordial shaman', 'magicResist': 5, 'maxmana': 0, 'model': 'models/heroes/arc_warden/arc_warden.vmdl', 'model_scale': 0.7, 'texturename': 'arcwarden', 'soundSet': 'Hero_ArcWarden', 'movespeed': 280, 'precache': [], 'healthBarOffset': 20}, 'mirana': {'abilities': ['mirana_arrow'], 'armor': 5, 'attackAnimationPoint': 0.5, 'attackRange': 4, 'attackRate': 1, 'damageMin': [66, 132, 264], 'damageMax': [78, 156, 312], 'displayName': '#dac_hero_name_mirana', 'dota_unit_name': 'npc_dota_hero_mirana', 'draftTier': 4, 'goldCost': 4, 'health': [1500, 3000, 6000], 'id': 86, 'hintWords': ['#dac_hero_hint_ranged', 'dac_hero_hint_strong_single_stun'], 'keywords': 'elf hunter', 'magicResist': 0, 'maxmana': 70, 'model': 'models/heroes/mirana/mirana.vmdl', 'model_scale': 0.6, 'texturename': 'mirana', 'soundSet': 'Hero_Mirana', 'projectile_speed': 1200, 'projectile_model': 'particles/units/heroes/hero_mirana/mirana_base_attack.vpcf', 'movespeed': 310, 'healthBarOffset': -40}, 'venomancer_plague_ward': {'armor': 0, 'attackAnimationPoint': 0.3, 'attackRange': 8, 'attackRate': 1.4, 'damageMin': [50, 100, 150], 'damageMax': [55, 110, 170], 'hintWords': [], 'keywords': 'savage', 'displayName': '#dac_name_plague_ward', 'dota_unit_name': 'npc_dota_venomancer_plague_ward_1', 'draftTier': 0, 'goldCost': 0, 'health': [400, 440, 480], 'model_scale': [0.4, 0.5, 0.6], 'id': 56, 'magicResist': 0, 'model': 'models/heroes/venomancer/venomancer_ward.vmdl', 'soundSet': 'VenomancerWard', 'projectile_speed': 1900, 'projectile_model': 'particles/units/heroes/hero_venomancer/venomancer_plague_ward_projectile.vpcf', 'movespeed': 0, 'player_dmg_override': 0, 'disable_movement': 1}, 'natures_prophet_tree': {'armor': 5, 'attackAnimationPoint': 0.3, 'attackRange': 1, 'attackRate': 1.2, 'damageMin': [30, 50, 70], 'damageMax': [50, 70, 90], 'hintWords': [], 'keywords': 'druid', 'displayName': '#dac_name_natures_prophet_tree', 'dota_unit_name': 'natures_prophet_tree', 'draftTier': 0, 'goldCost': 0, 'health': [700, 1200, 1600], 'id': 58, 'magicResist': 0, 'model': 'models/heroes/furion/treant.vmdl', 'model_scale': 0.55, 'movespeed': 325, 'player_dmg_override': 0, 'healthBarOffset': -80}, 'lone_druid_bear': {'abilities': ['lone_druid_spirit_bear_entangle'], 'soundSet': 'Summon_Bear', 'hintWords': [], 'keywords': 'savage druid', 'armor': 10, 'attackAnimationPoint': 0.3, 'attackRange': 1, 'attackRate': 1.6, 'damageMin': [150, 250, 350], 'damageMax': [200, 300, 400], 'displayName': '#dac_name_lone_druid_bear', 'dota_unit_name': 'lone_druid_bear', 'draftTier': 0, 'goldCost': 0, 'health': [2400, 3200, 4000], 'id': 59, 'magicResist': 10, 'model': ['models/heroes/lone_druid/spirit_bear.vmdl', 'models/heroes/lone_druid/ld_spirit_bear_lvl2.vmdl', 'models/heroes/lone_druid/ld_spirit_bear_lvl3.vmdl'], 'model_scale': 0.55, 'movespeed': 340, 'powerLevel': 3, 'healthBarOffset': -40, 'texturename': 'lone_druid_bear'}, 'lycan_wolf_spawns': {'soundSet': 'Summon_Wolf', 'armor': 5, 'attackAnimationPoint': 0.3, 'attackRange': 1, 'attackRate': 1.2, 'hintWords': [], 'keywords': 'savage hunter', 'damageMin': [80, 130, 215], 'damageMax': [100, 150, 240], 'displayName': '#dac_name_lycan_wolf_spawns', 'dota_unit_name': 'lycan_wolf_spawns', 'draftTier': 0, 'goldCost': 0, 'health': [600, 1000, 1700], 'id': 60, 'magicResist': 0, 'model': ['models/heroes/lycan/summon_wolves.vmdl', 'models/heroes/lycan/summon_wolves_lvl2.vmdl', 'models/heroes/lycan/summon_wolves_lvl3.vmdl'], 'model_scale': 0.55, 'movespeed': 400, 'player_dmg_override': 0}, 'techies_bomb_unit': {'health': 1, 'displayName': '#dac_name_techies_bomb', 'dota_unit_name': 'techies_bomb', 'draftTier': 0, 'goldCost': 0, 'id': 61, 'model': 'models/heroes/techies/fx_techies_remotebomb.vmdl', 'model_scale': 1.2, 'movespeed': 0, 'PowerLevel': 3, 'disable_movement': 1, 'disable_attack': 1, 'player_dmg_override': 0}, 'neutral_melee': {'displayName': '#dac_unit_neutral_melee', 'dota_unit_name': 'npc_dota_creep_goodguys_melee', 'id': 62, 'draftTier': 0, 'neutral_creep': True, 'powerLevel': 1, 'soundSet': 'Creep_Good_Melee', 'model': 'models/creeps/lane_creeps/creep_radiant_melee/radiant_melee.vmdl', 'model_scale': 0.85, 'health': 300, 'damageMin': 20, 'damageMax': 30, 'attackAnimationPoint': 0.467, 'attackRate': 1.0, 'attackRange': 1, 'movespeed': 325, 'magicResist': 0, 'armor': 0}, 'neutral_melee_mega': {'displayName': '#dac_unit_neutral_melee_mega', 'dota_unit_name': 'npc_dota_creep_goodguys_melee_upgraded_mega', 'id': 63, 'draftTier': 0, 'neutral_creep': True, 'powerLevel': 2, 'soundSet': 'Creep_Good_Melee_Mega', 'model': 'models/creeps/lane_creeps/creep_radiant_melee/radiant_melee_mega.vmdl', 'model_scale': 1.05, 'health': 700, 'damageMin': 40, 'damageMax': 50, 'attackAnimationPoint': 0.467, 'attackRate': 1.0, 'attackRange': 1, 'movespeed': 325, 'magicResist': 0, 'armor': 0}, 'neutral_ranged': {'displayName': '#dac_unit_neutral_ranged', 'dota_unit_name': 'npc_dota_creep_goodguys_ranged_upgraded_mega', 'id': 64, 'draftTier': 0, 'neutral_creep': True, 'powerLevel': 1, 'soundSet': 'Creep_Good_Range', 'model': 'models/creeps/lane_creeps/creep_radiant_ranged/radiant_ranged_mega.vmdl', 'model_scale': 0.65, 'health': 200, 'damageMin': 30, 'damageMax': 40, 'attackAnimationPoint': 0.5, 'attackRate': 1.0, 'attackRange': 4, 'movespeed': 325, 'magicResist': 0, 'armor': 0, 'projectile_model': 'particles/base_attacks/ranged_goodguy.vpcf', 'projectile_speed': 600, 'healthBarOffset': -50}, 'neutral_golem_a': {'displayName': '#dac_unit_neutral_golem_a', 'dota_unit_name': 'npc_dota_neutral_rock_golem', 'id': 65, 'draftTier': 0, 'neutral_creep': True, 'powerLevel': 4, 'hintWords': [], 'keywords': 'megawarrior', 'model': 'models/creeps/neutral_creeps/n_creep_golem_a/neutral_creep_golem_a.vmdl', 'attackAnimationPoint': 0.3, 'model_scale': 0.85, 'health': 3000, 'damageMin': 100, 'damageMax': 200, 'attackRate': 1, 'attackRange': 1, 'movespeed': 270, 'magicResist': 0, 'armor': 0}, 'neutral_golem_b': {'displayName': '#dac_unit_neutral_golem_b', 'dota_unit_name': 'npc_dota_neutral_mud_golem', 'id': 66, 'draftTier': 0, 'neutral_creep': True, 'hintWords': [], 'keywords': 'megawarrior', 'powerLevel': 3, 'model': 'models/creeps/neutral_creeps/n_creep_golem_b/n_creep_golem_b.vmdl', 'attackAnimationPoint': 0.3, 'model_scale': 0.85, 'health': 2000, 'damageMin': 100, 'damageMax': 150, 'attackRate': 0.67, 'attackRange': 1, 'movespeed': 310, 'magicResist': 0, 'armor': 0}, 'neutral_wolf_big': {'displayName': '#dac_unit_neutral_wolf_big', 'dota_unit_name': 'npc_dota_neutral_alpha_wolf', 'baseclass': 'dac_npc_assassin', 'assassin_modifier': 'assassin_modifier_wolfleap', 'id': 67, 'draftTier': 0, 'neutral_creep': True, 'powerLevel': 5, 'hintWords': [], 'keywords': 'megaassassin', 'model': 'models/creeps/neutral_creeps/n_creep_worg_large/n_creep_worg_large.vmdl', 'attackAnimationPoint': 0.3, 'model_scale': 1.05, 'health': 4000, 'damageMin': 200, 'damageMax': 250, 'attackRate': 0.97, 'attackRange': 1, 'movespeed': 350, 'magicResist': 0, 'armor': 5}, 'neutral_wolf_small': {'displayName': '#dac_unit_neutral_wolf_small', 'dota_unit_name': 'npc_dota_neutral_giant_wolf', 'baseclass': 'dac_npc_assassin', 'assassin_modifier': 'assassin_modifier_wolfleap', 'id': 68, 'draftTier': 0, 'neutral_creep': True, 'powerLevel': 3, 'hintWords': [], 'keywords': 'megaassassin', 'model': 'models/creeps/neutral_creeps/n_creep_worg_small/n_creep_worg_small.vmdl', 'attackAnimationPoint': 0.3, 'model_scale': 1.05, 'health': 2500, 'damageMin': 50, 'damageMax': 150, 'attackRate': 0.97, 'attackRange': 1, 'movespeed': 350, 'magicResist': 0, 'armor': 5}, 'neutral_bear_a': {'displayName': '#dac_unit_neutral_bear_a', 'dota_unit_name': 'npc_dota_neutral_polar_furbolg_ursa_warrior', 'id': 69, 'draftTier': 0, 'neutral_creep': True, 'powerLevel': 5, 'hintWords': [], 'keywords': 'megabloodbound', 'model': 'models/creeps/neutral_creeps/n_creep_furbolg/n_creep_furbolg_disrupter.vmdl', 'attackAnimationPoint': 0.3, 'model_scale': 0.85, 'health': 6000, 'damageMin': 200, 'damageMax': 250, 'attackRate': 0.5, 'attackRange': 1, 'movespeed': 320, 'magicResist': 50, 'armor': 0}, 'neutral_bear_b': {'displayName': '#dac_unit_neutral_bear_b', 'dota_unit_name': 'npc_dota_neutral_polar_furbolg_champion', 'id': 70, 'draftTier': 0, 'neutral_creep': True, 'powerLevel': 5, 'hintWords': [], 'keywords': 'megabloodbound', 'model': 'models/creeps/neutral_creeps/n_creep_beast/n_creep_beast.vmdl', 'attackAnimationPoint': 0.29, 'model_scale': 0.85, 'health': 6000, 'damageMin': 200, 'damageMax': 250, 'attackRate': 0.3, 'attackRange': 1, 'movespeed': 320, 'magicResist': 0, 'armor': 25}, 'neutral_vulture_a': {'displayName': '#dac_unit_neutral_vulture_a', 'dota_unit_name': 'npc_dota_neutral_enraged_wildkin', 'id': 71, 'draftTier': 0, 'neutral_creep': True, 'powerLevel': 6, 'hintWords': [], 'keywords': 'megaelusive', 'model': 'models/creeps/neutral_creeps/n_creep_vulture_a/n_creep_vulture_a.vmdl', 'attackAnimationPoint': 0.3, 'model_scale': 1.25, 'health': 9000, 'maxmana': 100, 'damageMin': 500, 'damageMax': 700, 'attackRate': 1, 'attackRange': 6, 'movespeed': 320, 'magicResist': 25, 'armor': 0, 'projectile_model': 'particles/units/creeps/vultures/vulture_tornado.vpcf', 'projectile_speed': 320}, 'neutral_vulture_b': {'displayName': '#dac_unit_neutral_vulture_b', 'dota_unit_name': 'npc_dota_neutral_wildkin', 'id': 72, 'draftTier': 0, 'neutral_creep': True, 'hintWords': [], 'keywords': 'megaelusive', 'powerLevel': 6, 'model': 'models/creeps/neutral_creeps/n_creep_vulture_b/n_creep_vulture_b.vmdl', 'attackAnimationPoint': 0.3, 'model_scale': 1.25, 'health': 9000, 'maxmana': 100, 'damageMin': 300, 'damageMax': 600, 'attackRate': 0.87, 'attackRange': 6, 'movespeed': 300, 'magicResist': 25, 'armor': 0, 'projectile_model': 'particles/units/creeps/vultures/vulture_tornado.vpcf', 'projectile_speed': 320}, 'neutral_thunder_lizard_big': {'displayName': '#dac_unit_neutral_thunder_lizard_big', 'dota_unit_name': 'npc_dota_neutral_big_thunder_lizard', 'id': 73, 'draftTier': 0, 'neutral_creep': True, 'hintWords': [], 'keywords': 'megawarlock', 'abilities': ['thunder_lizard_bloodlust'], 'powerLevel': 7, 'model': 'models/creeps/neutral_creeps/n_creep_thunder_lizard/n_creep_thunder_lizard_big.vmdl', 'attackAnimationPoint': 0.3, 'model_scale': 0.85, 'health': 10000, 'damageMin': 500, 'damageMax': 1500, 'attackRate': 1.07, 'attackRange': 4, 'movespeed': 270, 'maxmana': 100, 'magicResist': 0, 'armor': 0, 'healthBarOffset': 0, 'projectile_model': 'particles/units/heroes/hero_razor/razor_base_attack.vpcf', 'projectile_speed': 600}, 'neutral_thunder_lizard_small': {'displayName': '#dac_unit_neutral_thunder_lizard_small', 'dota_unit_name': 'npc_dota_neutral_small_thunder_lizard', 'id': 74, 'draftTier': 0, 'neutral_creep': True, 'hintWords': [], 'keywords': 'megawarlock', 'abilities': ['thunder_lizard_bloodlust'], 'powerLevel': 6, 'model': 'models/creeps/neutral_creeps/n_creep_thunder_lizard/n_creep_thunder_lizard_small.vmdl', 'attackAnimationPoint': 0.3, 'model_scale': 0.85, 'health': 7000, 'damageMin': 500, 'damageMax': 1200, 'attackRate': 1.07, 'attackRange': 4, 'movespeed': 270, 'maxmana': 100, 'magicResist': 0, 'armor': 0, 'healthBarOffset': 0, 'projectile_model': 'particles/units/heroes/hero_razor/razor_base_attack.vpcf', 'projectile_speed': 600}, 'neutral_black_dragon': {'displayName': '#dac_unit_neutral_black_dragon', 'dota_unit_name': 'npc_dota_neutral_black_dragon', 'id': 75, 'draftTier': 0, 'neutral_creep': True, 'hintWords': [], 'keywords': 'megascaled', 'powerLevel': 8, 'abilities': ['black_dragon_splash_attack'], 'model': 'models/creeps/neutral_creeps/n_creep_black_dragon/n_creep_black_dragon.vmdl', 'attackAnimationPoint': 0.3, 'model_scale': 1.15, 'health': 20000, 'damageMin': 500, 'damageMax': 1200, 'attackRate': 0.6, 'attackRange': 7, 'movespeed': 300, 'magicResist': 0, 'armor': 5, 'projectile_model': 'particles/units/heroes/hero_vengeful/vengeful_magic_missle.vpcf', 'projectile_speed': 600}, 'neutral_troll_dark_a': {'displayName': '#dac_unit_neutral_troll_dark_a', 'dota_unit_name': 'npc_dota_neutral_dark_troll', 'id': 76, 'draftTier': 0, 'neutral_creep': True, 'powerLevel': 5, 'hintWords': [], 'keywords': 'megatroll', 'model': 'models/creeps/neutral_creeps/n_creep_troll_dark_a/n_creep_troll_dark_a.vmdl', 'attackAnimationPoint': 0.3, 'model_scale': 0.75, 'health': 12000, 'damageMin': 200, 'damageMax': 400, 'attackRate': 1.13, 'attackRange': 1, 'movespeed': 270, 'magicResist': 0, 'armor': 5}, 'neutral_troll_dark_b': {'displayName': '#dac_unit_neutral_troll_dark_b', 'dota_unit_name': 'npc_dota_neutral_dark_troll_warlord', 'id': 77, 'draftTier': 0, 'neutral_creep': True, 'powerLevel': 7, 'hintWords': [], 'keywords': 'megatroll', 'model': 'models/creeps/neutral_creeps/n_creep_troll_dark_b/n_creep_troll_dark_b.vmdl', 'attackAnimationPoint': 0.3, 'model_scale': 0.95, 'health': 20000, 'damageMin': 400, 'damageMax': 800, 'attackRate': 0.97, 'attackRange': 4, 'movespeed': 300, 'magicResist': 0, 'armor': 5, 'projectile_model': 'particles/econ/items/clinkz/clinkz_maraxiform/clinkz_maraxiform_searing_arrow_deso.vpcf', 'projectile_speed': 600}, 'neutral_troll_dark_frost': {'displayName': '#dac_unit_neutral_troll_dark_frost', 'dota_unit_name': 'npc_dac_creep_neutral_troll_dark_frost', 'id': 78, 'draftTier': 0, 'neutral_creep': True, 'powerLevel': 7, 'hintWords': [], 'keywords': 'megatroll', 'model': 'models/creeps/neutral_creeps/n_creep_troll_dark_b/n_creep_troll_dark_frost.vmdl', 'attackAnimationPoint': 0.3, 'model_scale': 0.95, 'health': 20000, 'damageMin': 550, 'damageMax': 650, 'attackRate': 0.97, 'attackRange': 4, 'movespeed': 290, 'magicResist': 0, 'armor': 5, 'projectile_model': 'particles/items2_fx/skadi_projectile.vpcf', 'projectile_speed': 600}, 'neutral_nian': {'displayName': '#dac_unit_neutral_nian', 'dota_unit_name': 'npc_dota_goodguys_cny_beast', 'id': 79, 'draftTier': 0, 'neutral_creep': True, 'powerLevel': 9, 'hintWords': [], 'keywords': 'megademon', 'abilities': ['sven_great_cleave'], 'model': 'models/creeps/nian/nian_creep.vmdl', 'attackAnimationPoint': 0.3, 'model_scale': 0.85, 'health': 40000, 'maxmana': 100, 'damageMin': 300, 'damageMax': 1500, 'attackRate': 0.87, 'attackRange': 3, 'movespeed': 250, 'magicResist': 80, 'armor': 20, 'healthBarOffset': -200, 'projectile_model': 'particles/items_fx/battlefury_cleave.vpcf', 'projectile_speed': 1000}, 'neutral_roshan': {'displayName': '#dac_unit_neutral_roshan', 'dota_unit_name': 'npc_dota_mutation_pocket_roshan', 'id': 80, 'draftTier': 0, 'neutral_creep': True, 'powerLevel': 9, 'abilities': ['sven_great_cleave', 'roshan_spell_immune'], 'model': 'models/creeps/roshan/roshan.vmdl', 'attackAnimationPoint': 0.3, 'model_scale': 0.85, 'health': 80000, 'maxmana': 100, 'damageMin': 750, 'damageMax': 1500, 'attackRate': 1.5, 'attackRange': 1, 'movespeed': 270, 'magicResist': 30, 'armor': 30, 'healthBarOffset': 30}, 'eidolon': {'armor': [3, 5, 8], 'attackAnimationPoint': 0.3, 'attackRange': 2, 'attackRate': 1.5, 'damageMin': [40, 80, 160], 'damageMax': [60, 120, 240], 'displayName': '#dac_name_eidolon', 'dota_unit_name': 'enigma_eidolon', 'draftTier': 0, 'goldCost': 0, 'health': [600, 1200, 1800], 'model_scale': [0.55, 0.7, 0.85], 'id': 87, 'hintWords': [], 'keywords': 'primordial', 'model': 'models/heroes/enigma/eidelon.vmdl', 'movespeed': 400, 'projectile_model': 'particles/units/heroes/hero_enigma/enigma_base_attack_eidolon.vpcf', 'magicResist': 50, 'projectile_speed': 600, 'player_dmg_override': 0}, 'healing_ward': {'abilities': ['healing_ward_healing_aura'], 'armor': 0, 'hintWords': [], 'keywords': '', 'displayName': '#dac_name_healing_ward', 'dota_unit_name': 'npc_dota_healing_ward', 'draftTier': 0, 'goldCost': 0, 'health': [400, 440, 480], 'model_scale': 1.0, 'id': 91, 'magicResist': 0, 'model': 'models/heroes/juggernaut/jugg_healing_ward.vmdl', 'movespeed': 0, 'player_dmg_override': 0, 'disable_attack': 1, 'attackRange': 1, 'disable_movement': 1, 'disable_items': 1, 'ignoreForRoundEnd': True, 'aiAura': True, 'aiIsMelee': False, 'isPlaceable': True, 'ambient_effect': 'particles/items/healing_ward/healing_ward_ambient.vpcf', 'death_effect': 'particles/items/healing_ward/healing_ward_destruction.vpcf', 'precache': ['particles/units/heroes/hero_juggernaut/juggernaut_healing_ward.vpcf']}, 'barricade': {'abilities': ['barricade_aura'], 'armor': 20, 'hintWords': [], 'keywords': '', 'displayName': '#dac_name_barricade', 'dota_unit_name': 'npc_dota_barricade', 'draftTier': 0, 'goldCost': 0, 'health': [800, 800, 800], 'model_scale': 1.0, 'id': 92, 'magicResist': 0, 'model': 'models/props_gameplay/barricade/barricade.vmdl', 'movespeed': 0, 'player_dmg_override': 0, 'disable_attack': 1, 'disable_movement': 1, 'disable_items': 1, 'ignoreForRoundEnd': True, 'isBarricade': True, 'isPlaceable': True, 'aiIsMelee': True, 'death_effect': 'particles/items/barricade/barricade_destruction.vpcf'}, 'tombstone': {'abilities': ['tombstone_raise_zombies'], 'armor': 10, 'hintWords': [], 'keywords': '', 'displayName': '#dac_name_tombstone', 'dota_unit_name': 'npc_dota_tombstone', 'draftTier': 0, 'goldCost': 0, 'health': [4000, 4000, 4000], 'model_scale': 0.5, 'id': 93, 'magicResist': 0, 'model': 'models/heroes/undying/undying_tower.vmdl', 'movespeed': 0, 'player_dmg_override': 0, 'disable_attack': 1, 'attackRange': 2, 'disable_movement': 1, 'disable_items': 1, 'ignoreForRoundEnd': True, 'aiAura': True, 'aiIsMelee': True, 'isPlaceable': True, 'healthBarOffset': -100, 'ambient_effect': 'particles/items/tombstone/tombstone_ambient.vpcf', 'death_effect': 'particles/items/tombstone/tombstone_destruction.vpcf'}, 'target_dummy': {'abilities': ['target_dummy_taunt'], 'armor': 10, 'hintWords': [], 'keywords': '', 'displayName': '#dac_name_target_dummy', 'dota_unit_name': 'npc_dota_dummy_tidehunter', 'draftTier': 0, 'goldCost': 0, 'health': 2000, 'model_scale': 3.0, 'scaleOnlyBaseModel': True, 'id': 94, 'magicResist': 0, 'model': 'models/props_gameplay/dummy/dummy.vmdl', 'movespeed': 0, 'player_dmg_override': 0, 'disable_attack': 1, 'attackRange': 1, 'disable_movement': 1, 'ignoreForRoundEnd': True, 'aiIsMelee': True, 'isPlaceable': True, 'death_effect': 'particles/items/target_dummy/target_dummy_destruction.vpcf', 'healthBarOffset': 160}, 'tombstone_zombie': {'abilities': [], 'armor': 5, 'attackAnimationPoint': 0.3, 'attackRange': 1, 'attackRate': 1.2, 'damageMin': [30, 50, 70], 'damageMax': [50, 70, 90], 'hintWords': [], 'keywords': '', 'displayName': '#dac_name_tombstone_zombie', 'dota_unit_name': 'npc_dota_tombstone_zombie', 'draftTier': 0, 'goldCost': 0, 'health': [600, 1000, 1400], 'model_scale': [1.0, 1.0, 1.5], 'id': 95, 'magicResist': 0, 'model': ['models/heroes/undying/undying_minion_torso.vmdl', 'models/heroes/undying/undying_minion.vmdl', 'models/heroes/undying/undying_minion.vmdl'], 'movespeed': 325, 'player_dmg_override': 0}, 'faceless_void': {'abilities': ['faceless_void_chronocube', 'faceless_void_assassin_bonus'], 'baseclass': 'dac_npc_assassin', 'assassin_modifier': 'assassin_modifier_faceless_void', 'armor': 5, 'attackAnimationPoint': 0.5, 'attackRange': 1, 'attackRate': 1.2, 'damageMin': [140, 280, 560], 'damageMax': [170, 340, 680], 'displayName': '#dac_hero_name_faceless_void', 'dota_unit_name': 'npc_dota_hero_faceless_void', 'draftTier': 5, 'goldCost': 5, 'health': [2000, 3600, 8000], 'id': 96, 'hintWords': ['#dac_hero_hint_melee', 'dac_hero_hint_jumping_movement', 'dac_hero_hint_void_cube'], 'keywords': 'primordial assassin', 'magicResist': 0, 'maxmana': 100, 'model': 'models/heroes/faceless_void/faceless_void.vmdl', 'model_scale': 0.6, 'texturename': 'faceless_void', 'soundSet': 'Hero_FacelessVoid', 'movespeed': 290, 'healthBarOffset': 75, 'precache': ['particles/units/heroes/hero_faceless_void/faceless_void_time_walk_dac.vpcf'], 'legendary': {'bonus': 15.0, 'synergy': 'assassin', 'description': '#dac_legendary_faceless_void_desc', 'title': '#dac_legendary_title_faceless_void'}}, 'legion_commander': {'abilities': ['legion_commander_duel', 'legion_commander_element'], 'extra_abilities': ['legion_commander_will_of_the_bullsnake'], 'armor': 5, 'attackAnimationPoint': 0.46, 'attackRange': 1, 'attackRate': 1.25, 'damageMin': [40, 80, 180], 'damageMax': [50, 100, 228], 'displayName': '#dac_hero_name_legion_commander', 'dota_unit_name': 'npc_dota_hero_legion_commander', 'draftTier': 3, 'goldCost': 3, 'health': [900, 1800, 3600], 'id': 97, 'hintWords': ['#dac_hero_hint_melee', 'dac_hero_hint_legion_commander'], 'keywords': 'human champion', 'magicResist': 0, 'maxmana': 100, 'model': 'models/heroes/legion_commander/legion_commander.vmdl', 'model_scale': 0.8, 'texturename': 'legion_commander', 'soundSet': 'Hero_LegionCommander', 'movespeed': 315, 'healthBarOffset': -40}, 'nyx_assassin': {'abilities': ['nyx_assassin_spiked_carapace', 'nyx_assassin_vendetta'], 'baseclass': 'dac_npc_assassin', 'assassin_modifier': 'assassin_modifier_nyx_assassin', 'armor': 5, 'attackAnimationPoint': 0.59, 'attackRange': 1, 'attackRate': 1.5, 'damageMin': [50, 100, 200], 'damageMax': [70, 140, 280], 'displayName': '#dac_hero_name_nyx_assassin', 'dota_unit_name': 'npc_dota_hero_nyx_assassin', 'draftTier': 1, 'goldCost': 1, 'health': [1100, 1980, 4400], 'id': 98, 'hintWords': ['#dac_hero_hint_melee', 'dac_hero_hint_teleport_movement', 'dac_hero_hint_high_single_target_damage'], 'keywords': 'insect assassin', 'magicResist': 0, 'maxmana': 100, 'model': 'models/heroes/nerubian_assassin/nerubian_assassin.vmdl', 'model_scale': 0.7, 'texturename': 'nyx_assassin', 'soundSet': 'Hero_NyxAssassin', 'movespeed': 315, 'precache': ['particles/units/heroes/hero_nyx_assassin/nyx_assassin_vendetta_start.vpcf'], 'healthBarOffset': 20}, 'weaver': {'abilities': ['weaver_shukuchi'], 'armor': 5, 'attackAnimationPoint': 0.4, 'attackRange': 2, 'attackRate': 0.9, 'damageMin': [60, 120, 260], 'damageMax': [70, 140, 300], 'displayName': '#dac_hero_name_weaver', 'dota_unit_name': 'npc_dota_hero_weaver', 'draftTier': 2, 'goldCost': 2, 'health': [900, 1800, 3600], 'id': 99, 'hintWords': ['#dac_hero_hint_ranged', 'dac_hero_hint_multiple_damage'], 'keywords': 'insect elf goblin', 'magicResist': 0, 'maxmana': 20, 'model': 'models/heroes/weaver/weaver.vmdl', 'model_scale': 0.6, 'texturename': 'weaver', 'soundSet': 'Hero_Weaver', 'projectile_speed': 1250, 'projectile_model': 'particles/units/heroes/hero_weaver/weaver_base_attack.vpcf', 'movespeed': 290, 'healthBarOffset': 0}, 'broodmother': {'abilities': ['broodmother_spin_web'], 'armor': 5, 'attackAnimationPoint': 0.36, 'attackRange': 1, 'attackRate': 1, 'damageMin': [50, 100, 200], 'damageMax': [70, 140, 280], 'displayName': '#dac_hero_name_broodmother', 'dota_unit_name': 'npc_dota_hero_broodmother', 'draftTier': 4, 'goldCost': 4, 'health': [2000, 4000, 8000], 'id': 100, 'hintWords': ['#dac_hero_hint_ranged', 'dac_hero_hint_ability_spawns_allies'], 'keywords': 'insect warlock', 'magicResist': 0, 'maxmana': 100, 'model': 'models/heroes/broodmother/broodmother.vmdl', 'model_scale': 0.6, 'texturename': 'broodmother', 'soundSet': 'Hero_Broodmother', 'movespeed': 275, 'healthBarOffset': 25}, 'broodmother_spiderling': {'armor': 0, 'attackAnimationPoint': 0.1, 'attackRange': 1, 'attackRate': 0.4, 'damageMin': 5, 'damageMax': 8, 'displayName': '#dac_name_broodmother_spiderling', 'dota_unit_name': 'npc_dota_broodmother_spiderling', 'draftTier': 0, 'goldCost': 0, 'health': 1, 'id': 101, 'hintWords': [], 'keywords': 'insect', 'magicResist': 0, 'maxmana': 0, 'model': 'models/heroes/broodmother/spiderling.vmdl', 'model_scale': 0.25, 'model_scale_random': 0.1, 'texturename': 'broodmother', 'movespeed': 420, 'player_dmg_override': 0, 'ignoreForRoundEnd': True, 'death_modifier': 'modifier_spiderling_death', 'increases_kill_counts': False, 'disable_outline': True, 'precache': ['particles/gameplay/synergy/insect/insect_spider_burst.vpcf']}, 'alliance_spiderling': {'armor': 0, 'attackAnimationPoint': 0.1, 'attackRange': 1, 'attackRate': 0.4, 'damageMin': 8, 'damageMax': 10, 'displayName': '#dac_name_broodmother_spiderling', 'dota_unit_name': 'npc_dota_broodmother_spiderling', 'draftTier': 0, 'goldCost': 0, 'health': 1, 'id': 102, 'hintWords': [], 'keywords': 'insect', 'magicResist': 0, 'maxmana': 0, 'model': 'models/heroes/broodmother/spiderling.vmdl', 'model_scale': 0.2, 'model_scale_random': 0.05, 'texturename': 'broodmother', 'movespeed': 420, 'player_dmg_override': 0, 'ignoreForRoundEnd': True, 'death_modifier': 'modifier_spiderling_death', 'increases_kill_counts': False, 'globalMeterEntity': 2, 'disable_outline': True, 'precache': ['particles/gameplay/synergy/insect/insect_spider_burst.vpcf']}, 'cinderwall': {'abilities': ['cinderwall_aura'], 'armor': 20, 'hintWords': [], 'keywords': '', 'displayName': '#dac_name_cinderwall', 'dota_unit_name': 'npc_dota_cinderwall', 'draftTier': 0, 'goldCost': 0, 'health': [800, 800, 800], 'model_scale': 1.0, 'id': 103, 'magicResist': 0, 'model': 'models/props_gameplay/barricade/barricade.vmdl', 'movespeed': 0, 'player_dmg_override': 0, 'disable_attack': 1, 'disable_movement': 1, 'disable_items': 1, 'ignoreForRoundEnd': True, 'isBarricade': True, 'isPlaceable': True, 'aiIsMelee': True, 'death_effect': 'particles/items/barricade/barricade_destruction.vpcf'}, 'anessix': {'abilities': ['anessix_passive', 'anessix_martyrs_boon', 'anessix_pure_pain', 'anessix_enthrall', 'anessix_summon_golem'], 'id': 1001, 'hintWords': [], 'keywords': '', 'isUnderlord': True, 'dota_unit_name': 'anessix', 'hypeBarColorStart': [189, 45, 255, 255], 'hypeBarColorEnd': [249, 178, 228, 255], 'hypeBarDarkColor': [[189, 45, 255, 255], [249, 77, 255, 255], [255, 149, 211, 255]], 'hypeBarBaseColor': [[190, 46, 255, 255], [249, 77, 255, 255], [255, 149, 211, 255]], 'hypeBarLightColor': [[204, 79, 255, 255], [249, 77, 255, 255], [249, 178, 228, 255]], 'displayName': '#dac_name_anessix', 'draftTier': 0, 'armor': [2, 2, 2, 3, 3, 3, 4, 4, 4, 5], 'health': [1000, 1500, 2000, 2500, 3000, 3500, 4000, 4500, 5000, 5500], 'healthRegen': 20, 'movespeed': 275, 'model_scale': 1.0, 'model': 'models/underlords/anessix/anessix.vmdl', 'attackAnimationPoint': 0.4, 'attackRange': 0, 'player_dmg_override': 0, 'disable_attack': 1, 'maxmana': 0, 'disable_items': 1, 'texturename': 'anessix', 'beautiful_corner': {'model': 'models/underlords/anessix/anessix.vmdl', 'modelScale': 1.0, 'unitName': 'anessix'}}, 'hobgen': {'abilities': ['hobgen_passive', 'hobgen_explosivo', 'hobgen_supercharged', 'hobgen_letsgocrazy', 'hobgen_airstrike'], 'id': 1004, 'hintWords': [], 'keywords': '', 'isUnderlord': True, 'dota_unit_name': 'hobgen', 'hypeBarColorStart': [242, 83, 28, 255], 'hypeBarColorEnd': [255, 186, 27, 255], 'hypeBarDarkColor': [[242, 83, 28, 255], [252, 119, 0, 255], [255, 186, 27, 255]], 'hypeBarBaseColor': [[242, 83, 28, 255], [252, 119, 0, 255], [255, 186, 27, 255]], 'hypeBarLightColor': [[242, 105, 73, 255], [252, 119, 0, 255], [255, 186, 27, 255]], 'displayName': '#dac_name_hobgen', 'soundSet': 'Underlord_Hobgen', 'draftTier': 0, 'armor': [5, 5, 6, 6, 7, 7, 8, 8, 9, 10], 'health': [1000, 1700, 2400, 3100, 3800, 4500, 5200, 5900, 6600, 7300], 'healthRegen': 10, 'movespeed': 275, 'maxmana': 100, 'model_scale': 0.86, 'model': 'models/underlords/hobgen/hobgen.vmdl', 'attackAnimationPoint': 0.4, 'attackRange': 3, 'attackRate': 1.7, 'projectile_speed': 1000, 'projectile_model': 'particles/underlords/hobgen/hobgen_base_attack.vpcf', 'player_dmg_override': 0, 'damageMin': [74, 86, 98, 110, 122, 134, 146, 158, 170, 182], 'damageMax': [80, 92, 104, 116, 128, 140, 152, 164, 176, 188], 'disable_items': 1, 'texturename': 'hobgen', 'precache': ['particles/underlords/hobgen/hobgen_explosivo_projectile.vpcf', 'econ/particles/fluff/banners/s0/fluff_banners_s0_candle.vpcf'], 'beautiful_corner': {'model': 'models/underlords/hobgen/hobgen.vmdl', 'modelScale': 0.86, 'unitName': 'hobgen', 'ambientParticle': 'particles/underlords/hobgen/hobgen_ambient.vpcf'}}, 'anessix_companion_warrior': {'abilities': ['demon_warrior_bash', 'demon_warrior_protect'], 'attackAnimationPoint': 0.56, 'attackRange': 1, 'attackRate': 1.0, 'displayName': '#dac_name_anessix_warrior', 'dota_unit_name': 'dac_name_anessix_warrior', 'draftTier': 0, 'goldCost': 0, 'id': 104, 'hintWords': [], 'keywords': 'demon warrior', 'magicResist': 0, 'maxmana': 0, 'model': 'models/creeps/item_creeps/i_creep_necro_warrior/necro_warrior.vmdl', 'model_scale': 0.4, 'movespeed': 350, 'player_dmg_override': 0, 'ignoreForRoundEnd': True, 'soundSet': 'Underlord_Annesix_melee', 'damageMin': [45, 60, 75, 90, 105, 120, 135, 150, 165, 180], 'damageMax': [45, 60, 75, 90, 105, 120, 135, 150, 165, 180], 'armor': [5, 6, 7, 8, 9, 10, 11, 12, 13, 14], 'health': [400, 600, 800, 1000, 1200, 1400, 1600, 1800, 2000, 2200]}, 'anessix_companion_archer': {'abilities': ['anessix_companion_archer_passive'], 'attackAnimationPoint': 0.7, 'attackRange': 3, 'attackRate': 1, 'displayName': '#dac_name_anessix_archer', 'dota_unit_name': 'dac_name_anessix_archer', 'draftTier': 0, 'goldCost': 0, 'id': 105, 'hintWords': [], 'keywords': 'demon', 'magicResist': 0, 'maxmana': 0, 'model': 'models/creeps/item_creeps/i_creep_necro_archer/necro_archer.vmdl', 'model_scale': 0.4, 'movespeed': 330, 'player_dmg_override': 0, 'ignoreForRoundEnd': True, 'projectile_speed': 900, 'projectile_model': 'particles/items2_fx/necronomicon_archer_projectile.vpcf', 'soundSet': 'Underlord_Annesix_range', 'damageMin': [30, 36, 42, 48, 54, 60, 66, 72, 78, 84], 'damageMax': [36, 42, 48, 54, 60, 66, 72, 78, 84, 90], 'armor': [1, 2, 3, 4, 5, 6, 7, 8, 9, 10], 'health': [200, 300, 400, 500, 600, 700, 800, 900, 1000, 1100]}, 'wisp': {'abilities': ['wisp_tether', 'wisp_relocate'], 'armor': 5, 'attackAnimationPoint': 0.55, 'attackRange': 3, 'attackRate': 1.7, 'damageMin': [40, 80, 160], 'damageMax': [45, 90, 180], 'displayName': '#dac_hero_name_wisp', 'dota_unit_name': 'npc_dota_hero_wisp', 'draftTier': 3, 'goldCost': 3, 'health': [1100, 2200, 4000], 'id': 106, 'hintWords': ['#dac_hero_hint_ranged', 'dac_hero_hint_resurrects_allies'], 'keywords': 'primordial druid', 'magicResist': 0, 'maxmana': 100, 'model': 'models/heroes/wisp/wisp.vmdl', 'model_scale': 0.6, 'texturename': 'wisp', 'soundSet': 'Hero_Wisp', 'projectile_speed': 900, 'projectile_model': 'particles/units/heroes/hero_wisp/wisp_base_attack.vpcf', 'movespeed': 275, 'healthBarOffset': -20, 'death_modifier': 'modifier_wisp_death', 'precache': ['particles/units/heroes/hero_wisp/wisp_death.vpcf']}, 'horn_of_the_alpha_thunderhide': {'displayName': '#dac_unit_neutral_thunder_lizard_small', 'dota_unit_name': 'npc_dota_neutral_small_thunder_lizard', 'id': 107, 'draftTier': 0, 'model': 'models/creeps/neutral_creeps/n_creep_thunder_lizard/n_creep_thunder_lizard_big.vmdl', 'attackAnimationPoint': 0.3, 'health': 5000, 'damageMin': 100, 'damageMax': 150, 'attackRate': 1.07, 'attackRange': 4, 'movespeed': 270, 'maxmana': 100, 'magicResist': 0, 'armor': 0, 'model_scale': 0.6, 'healthBarOffset': 0, 'projectile_model': 'particles/units/heroes/hero_razor/razor_base_attack.vpcf', 'projectile_speed': 600}, 'anessix_golem': {'displayName': '#dac_unit_anessix_golem', 'dota_unit_name': 'anessix_golem', 'id': 108, 'draftTier': 0, 'powerLevel': 4, 'hintWords': [], 'keywords': 'demon', 'model': ['models/underlords/anessix/anessix_golem_lvl1.vmdl', 'models/underlords/anessix/anessix_golem_lvl2.vmdl'], 'attackAnimationPoint': 0.26, 'model_scale': 0.85, 'health': [3000, 6000], 'damageMin': [125, 250], 'damageMax': [145, 290], 'attackRate': 0.8, 'attackRange': 1, 'movespeed': 260, 'soundSet': 'Underlord_Annesix_Golem', 'magicResist': 0, 'armor': 5, 'player_dmg_override': 0}, 'bristleback': {'abilities': ['bristleback_quill_spray'], 'armor': 10, 'attackAnimationPoint': 0.3, 'attackRange': 1, 'attackRate': 1.7, 'damageMin': [130, 260, 520], 'damageMax': [150, 300, 600], 'displayName': '#dac_hero_name_bristleback', 'dota_unit_name': 'npc_dota_hero_bristleback', 'draftTier': 4, 'goldCost': 4, 'health': [2200, 4400, 8800], 'id': 109, 'hintWords': ['#dac_hero_hint_melee', 'dac_hero_hint_close_aoe_damage'], 'keywords': 'brawny savage', 'magicResist': 0, 'maxmana': 20, 'model': 'models/heroes/bristleback/bristleback.vmdl', 'model_scale': 0.6, 'texturename': 'bristleback', 'soundSet': 'Hero_Bristleback', 'movespeed': 300, 'healthBarOffset': -45}, 'sven': {'abilities': ['sven_gods_strength', 'sven_cleave', 'sven_knight_bonus'], 'armor': 5, 'attackAnimationPoint': 0.4, 'attackRange': 1, 'attackRate': 1.7, 'damageMin': [110, 220, 440], 'damageMax': [130, 260, 520], 'displayName': '#dac_hero_name_sven', 'dota_unit_name': 'npc_dota_hero_sven', 'draftTier': 5, 'goldCost': 5, 'health': [1900, 3800, 7600], 'id': 110, 'hintWords': ['#dac_hero_hint_melee', 'dac_hero_hint_cleave_attack'], 'keywords': 'human naga knight', 'magicResist': 0, 'maxmana': 200, 'model': 'models/heroes/sven/sven.vmdl', 'model_scale': 0.6, 'texturename': 'sven', 'soundSet': 'Hero_Sven', 'movespeed': 300, 'healthBarOffset': -45, 'legendary': {'bonus': 15.0, 'synergy': 'knight', 'description': '#dac_legendary_sven_desc', 'title': '#dac_legendary_title_sven'}}, 'magnus': {'abilities': ['magnataur_empower'], 'armor': 5, 'attackAnimationPoint': 0.5, 'attackRange': 1, 'attackRate': 1.7, 'maxmana': 0, 'damageMin': [55, 110, 220], 'damageMax': [65, 130, 260], 'displayName': '#dac_hero_name_magnus', 'dota_unit_name': 'npc_dota_hero_magnataur', 'draftTier': 2, 'goldCost': 2, 'health': [1875, 3750, 7500], 'id': 111, 'hintWords': ['#dac_hero_hint_melee', 'dac_hero_hint_buffs_ally_with_cleave'], 'keywords': 'shaman brutal', 'magicResist': 0, 'model': 'models/heroes/magnataur/magnataur.vmdl', 'model_scale': 0.6, 'texturename': 'magnataur', 'soundSet': 'Hero_Magnataur', 'movespeed': 280, 'healthBarOffset': -45}, 'dazzle': {'abilities': ['dazzle_shadow_wave'], 'armor': 5, 'attackAnimationPoint': 0.3, 'attackRange': 3, 'attackRate': 1.7, 'damageMin': [40, 80, 160], 'damageMax': [60, 120, 240], 'displayName': '#dac_hero_name_dazzle', 'dota_unit_name': 'npc_dota_hero_dazzle', 'draftTier': 2, 'goldCost': 2, 'health': [1500, 3000, 6000], 'id': 112, 'hintWords': ['#dac_hero_hint_ranged', 'dac_hero_hint_healer'], 'keywords': 'troll healer', 'magicResist': 0, 'maxmana': 100, 'model': 'models/heroes/dazzle/dazzle.vmdl', 'model_scale': 0.6, 'texturename': 'dazzle', 'soundSet': 'Hero_Dazzle', 'projectile_speed': 900, 'projectile_model': 'particles/units/heroes/hero_dazzle/dazzle_base_attack.vpcf', 'movespeed': 310, 'healthBarOffset': -45}, 'shadow_demon': {'abilities': ['shadow_demon_demonic_purge'], 'armor': 5, 'attackAnimationPoint': 0.35, 'attackRange': 3, 'attackRate': 1.6, 'damageMin': [45, 90, 180], 'damageMax': [65, 130, 260], 'displayName': '#dac_hero_name_shadow_demon', 'dota_unit_name': 'npc_dota_hero_shadow_demon', 'draftTier': 1, 'goldCost': 1, 'health': [1200, 2400, 4800], 'id': 113, 'hintWords': ['#dac_hero_hint_ranged', 'dac_hero_hint_high_single_target_damage'], 'keywords': 'undead demon', 'magicResist': 0, 'maxmana': 100, 'model': 'models/heroes/shadow_demon/shadow_demon.vmdl', 'model_scale': 0.6, 'texturename': 'shadow_demon', 'soundSet': 'Hero_ShadowDemon', 'projectile_speed': 900, 'projectile_model': 'particles/units/heroes/hero_shadow_demon/shadow_demon_base_attack.vpcf', 'movespeed': 310, 'healthBarOffset': -45}, 'life_stealer': {'armor': 5, 'attackAnimationPoint': 0.39, 'abilities': ['life_stealer_feast'], 'attackRange': 1, 'attackRate': [1.5, 1.4, 1.3], 'damageMin': [55, 110, 220], 'damageMax': [60, 120, 240], 'displayName': '#dac_hero_name_life_stealer', 'dota_unit_name': 'npc_dota_hero_life_stealer', 'draftTier': 3, 'goldCost': 3, 'health': [1350, 2700, 6480], 'id': 114, 'hintWords': ['#dac_hero_hint_melee', 'dac_hero_hint_life_stealer_attack'], 'keywords': 'undead brutal', 'magicResist': 0, 'maxmana': 0, 'model': 'models/heroes/life_stealer/life_stealer.vmdl', 'model_scale': 0.6, 'texturename': 'life_stealer', 'soundSet': 'Hero_Lifestealer', 'movespeed': 300, 'healthBarOffset': -50, 'aiPassiveAbility': True}, 'test_dummy': {'abilities': [], 'armor': 0, 'hintWords': [], 'keywords': '', 'displayName': '#dac_name_target_dummy', 'dota_unit_name': 'npc_dota_dummy_tidehunter', 'draftTier': 0, 'goldCost': 0, 'health': 100000, 'model_scale': 3.0, 'scaleOnlyBaseModel': True, 'id': 115, 'magicResist': 0, 'model': 'models/props_gameplay/dummy/dummy.vmdl', 'movespeed': 0, 'player_dmg_override': 0, 'disable_attack': 1, 'attackRange': 1, 'disable_movement': 1, 'ignoreForRoundEnd': False, 'aiIsMelee': True, 'death_effect': 'particles/items/target_dummy/target_dummy_destruction.vpcf', 'healthBarOffset': 160}, 'barricade_new': {'abilities': ['barricade_aura_new'], 'armor': 20, 'hintWords': [], 'keywords': '', 'displayName': '#dac_name_barricade', 'dota_unit_name': 'npc_dota_barricade', 'draftTier': 0, 'goldCost': 0, 'health': [800, 800, 800], 'model_scale': 1.0, 'id': 116, 'magicResist': 0, 'model': 'models/props_gameplay/barricade/barricade.vmdl', 'movespeed': 0, 'player_dmg_override': 0, 'disable_attack': 1, 'disable_movement': 1, 'disable_items': 1, 'ignoreForRoundEnd': True, 'isBarricade': True, 'isPlaceable': True, 'aiIsMelee': True, 'death_effect': 'particles/items/barricade/barricade_destruction.vpcf'}, 'target_dummy_new': {'abilities': ['target_dummy_taunt_new'], 'armor': 10, 'hintWords': [], 'keywords': '', 'displayName': '#dac_name_target_dummy', 'dota_unit_name': 'npc_dota_dummy_tidehunter', 'draftTier': 0, 'goldCost': 0, 'health': 2000, 'model_scale': 3.0, 'scaleOnlyBaseModel': True, 'id': 117, 'magicResist': 0, 'model': 'models/props_gameplay/dummy/dummy.vmdl', 'movespeed': 0, 'player_dmg_override': 0, 'disable_attack': 1, 'attackRange': 1, 'disable_movement': 1, 'ignoreForRoundEnd': True, 'aiIsMelee': True, 'isPlaceable': True, 'death_effect': 'particles/items/target_dummy/target_dummy_destruction.vpcf', 'healthBarOffset': 160}, 'tombstone_new': {'abilities': ['tombstone_raise_zombies_new'], 'armor': 10, 'hintWords': [], 'keywords': '', 'displayName': '#dac_name_tombstone', 'dota_unit_name': 'npc_dota_tombstone', 'draftTier': 0, 'goldCost': 0, 'health': [4000, 4000, 4000], 'model_scale': 0.5, 'id': 119, 'magicResist': 0, 'model': 'models/heroes/undying/undying_tower.vmdl', 'movespeed': 0, 'player_dmg_override': 0, 'disable_attack': 1, 'attackRange': 2, 'disable_movement': 1, 'disable_items': 1, 'ignoreForRoundEnd': True, 'aiAura': True, 'aiIsMelee': True, 'isPlaceable': True, 'healthBarOffset': -100, 'ambient_effect': 'particles/items/tombstone/tombstone_ambient.vpcf', 'death_effect': 'particles/items/tombstone/tombstone_destruction.vpcf'}, 'tombstone_zombie_new': {'abilities': [], 'armor': 5, 'attackAnimationPoint': 0.3, 'attackRange': 1, 'attackRate': 1.2, 'damageMin': [50, 70, 90], 'damageMax': [70, 90, 110], 'hintWords': [], 'keywords': '', 'displayName': '#dac_name_tombstone_zombie', 'dota_unit_name': 'npc_dota_tombstone_zombie', 'draftTier': 0, 'goldCost': 0, 'health': [800, 1200, 1600], 'model_scale': [1.0, 1.0, 1.5], 'id': 120, 'magicResist': 0, 'model': ['models/heroes/undying/undying_minion_torso.vmdl', 'models/heroes/undying/undying_minion.vmdl', 'models/heroes/undying/undying_minion.vmdl'], 'movespeed': 325, 'player_dmg_override': 0}, 'healing_ward_new': {'abilities': ['healing_ward_healing_aura_new'], 'armor': 0, 'hintWords': [], 'keywords': '', 'displayName': '#dac_name_healing_ward', 'dota_unit_name': 'npc_dota_healing_ward', 'draftTier': 0, 'goldCost': 0, 'health': [400, 440, 480], 'model_scale': 1.0, 'id': 118, 'magicResist': 0, 'model': 'models/heroes/juggernaut/jugg_healing_ward.vmdl', 'movespeed': 0, 'player_dmg_override': 0, 'disable_attack': 1, 'attackRange': 1, 'disable_movement': 1, 'disable_items': 1, 'ignoreForRoundEnd': True, 'aiAura': True, 'aiIsMelee': False, 'isPlaceable': True, 'ambient_effect': 'particles/items/healing_ward/healing_ward_ambient.vpcf', 'death_effect': 'particles/items/healing_ward/healing_ward_destruction.vpcf', 'precache': ['particles/units/heroes/hero_juggernaut/juggernaut_healing_ward.vpcf']}, 'storm_spirit': {'abilities': ['storm_spirit_ball_lightning', 'storm_spirit_element'], 'armor': 5, 'attackAnimationPoint': 0.5, 'attackRange': 3, 'attackRate': 1.6, 'damageMin': [50, 100, 200], 'damageMax': [60, 120, 240], 'displayName': '#dac_hero_name_storm_spirit', 'dota_unit_name': 'npc_dota_hero_storm_spirit', 'draftTier': 2, 'goldCost': 2, 'health': [1000, 2000, 4000], 'id': 121, 'hintWords': ['#dac_hero_hint_ranged', 'dac_hero_hint_line_damage'], 'keywords': 'spiritbrother mage', 'magicResist': 0, 'maxmana': 40, 'model': 'models/heroes/storm_spirit/storm_spirit.vmdl', 'model_scale': 0.8, 'texturename': 'storm_spirit', 'soundSet': 'Hero_StormSpirit', 'projectile_speed': 900, 'projectile_model': 'particles/units/heroes/hero_stormspirit/stormspirit_base_attack.vpcf', 'useConstantAnimationLayer': True, 'movespeed': 290, 'healthBarOffset': -10}, 'ember_spirit': {'abilities': ['ember_spirit_sleight_of_fist', 'ember_spirit_element'], 'baseclass': 'dac_npc_assassin', 'assassin_modifier': 'assassin_modifier_ember_spirit', 'armor': 5, 'attackAnimationPoint': 0.3, 'attackRange': 1, 'attackRate': 1.5, 'damageMin': [80, 160, 320], 'damageMax': [100, 200, 400], 'displayName': '#dac_hero_name_ember_spirit', 'dota_unit_name': 'npc_dota_hero_ember_spirit', 'draftTier': 2, 'goldCost': 2, 'health': [1100, 2200, 4400], 'id': 122, 'hintWords': ['#dac_hero_hint_melee', 'dac_hero_hint_teleport_movement', 'dac_hero_hint_close_aoe_damage'], 'keywords': 'spiritbrother assassin', 'magicResist': 0, 'maxmana': 100, 'model': 'models/heroes/ember_spirit/ember_spirit.vmdl', 'model_scale': 0.9, 'texturename': 'ember_spirit', 'soundSet': 'Hero_EmberSpirit', 'movespeed': 305, 'precache': ['particles/units/heroes/hero_ember_spirit/ember_teleport.vpcf'], 'healthBarOffset': -50}, 'earth_spirit': {'abilities': ['earth_spirit_geomagnetic_grip', 'earth_spirit_element'], 'armor': 10, 'attackAnimationPoint': 0.33, 'attackRange': 1, 'attackRate': [1.5, 1.5, 1.5], 'damageMin': [55, 110, 220], 'damageMax': [60, 120, 240], 'displayName': '#dac_hero_name_earth_spirit', 'dota_unit_name': 'npc_dota_hero_earth_spirit', 'draftTier': 3, 'goldCost': 3, 'health': [1700, 3400, 6800], 'id': 123, 'hintWords': ['#dac_hero_hint_melee'], 'keywords': 'spiritbrother warrior', 'magicResist': 0, 'maxmana': 100, 'model': 'models/heroes/earth_spirit/earth_spirit.vmdl', 'model_scale': 0.75, 'texturename': 'earth_spirit', 'soundSet': 'Hero_EarthSpirit', 'movespeed': 300, 'healthBarOffset': 10}, 'void_spirit': {'abilities': ['void_spirit_dissimilate', 'void_spirit_spirit_bonus', 'void_spirit_element'], 'legendary': {'bonus': 15.0, 'synergy': 'spiritbrother', 'description': '#dac_legendary_void_spirit_desc', 'title': '#dac_legendary_title_void_spirit'}, 'armor': 5, 'attackAnimationPoint': 0.35, 'attackRange': 1, 'attackRate': 1, 'damageMin': [70, 140, 280], 'damageMax': [80, 160, 320], 'displayName': '#dac_hero_name_void_spirit', 'dota_unit_name': 'npc_dota_hero_void_spirit', 'draftTier': 5, 'goldCost': 5, 'health': [1700, 3400, 6800], 'id': 124, 'hintWords': ['#dac_hero_hint_melee'], 'keywords': 'spiritbrother warlock', 'magicResist': 0, 'maxmana': 100, 'model': 'models/heroes/void_spirit/void_spirit.vmdl', 'model_scale': 0.7, 'texturename': 'void_spirit', 'soundSet': 'Hero_VoidSpirit', 'movespeed': 305, 'healthBarOffset': 25, 'precache': ['particles/units/heroes/hero_void_spirit/void_spirit_attack_alt_02_blur.vpcf']}, 'snapfire': {'abilities': ['granny_lizard_shotgun_blast'], 'extra_abilities': ['granny_lizard_bazooka'], 'armor': 5, 'attackAnimationPoint': 0.5, 'attackRange': 2, 'attackRate': 1.3, 'projectile_model': 'particles/units/heroes/hero_snapfire/hero_snapfire_base_attack.vpcf', 'damageMin': [50, 100, 200], 'damageMax': [60, 120, 240], 'displayName': '#dac_hero_name_snapfire', 'dota_unit_name': 'npc_dota_hero_snapfire', 'draftTier': 1, 'goldCost': 1, 'health': [1250, 2500, 5000], 'id': 125, 'hintWords': ['#dac_hero_hint_ranged'], 'keywords': 'dragon inventor', 'magicResist': 0, 'maxmana': 100, 'model': 'models/heroes/snapfire/snapfire.vmdl', 'model_scale': 0.4, 'texturename': 'snapfire', 'soundSet': 'Hero_Snapfire', 'movespeed': 295, 'projectile_speed': 900, 'healthBarOffset': 0}}\n"
          ],
          "name": "stdout"
        }
      ]
    },
    {
      "cell_type": "markdown",
      "metadata": {
        "id": "N-Hw5fq7_dwL",
        "colab_type": "text"
      },
      "source": [
        "First, we should create a class which makes it easy for us to access important information about each of the characters. "
      ]
    },
    {
      "cell_type": "code",
      "metadata": {
        "id": "abE_J6TNtXRd",
        "colab_type": "code",
        "colab": {}
      },
      "source": [
        "class UnitInfo:\n",
        "  def __init__(self):\n",
        "    self.unit_info = unit_info\n",
        "\n",
        "  # Return a list of synergies for a certain uit\n",
        "  def get_synergies(self, unit):\n",
        "    return self.unit_info[unit]['keywords'].split()\n",
        "\n",
        "  # cost in gold of a unit\n",
        "  def get_cost(self, unit):\n",
        "    return self.unit_info[unit]['goldCost']"
      ],
      "execution_count": 0,
      "outputs": []
    },
    {
      "cell_type": "code",
      "metadata": {
        "id": "PaKx_e5luAQ1",
        "colab_type": "code",
        "outputId": "035a0a4a-922d-4060-d769-ce73a367acfc",
        "colab": {
          "base_uri": "https://localhost:8080/",
          "height": 34
        }
      },
      "source": [
        "info = UnitInfo()\n",
        "info.get_synergies('dragon_knight')\n",
        "info.get_cost('dragon_knight')"
      ],
      "execution_count": 20,
      "outputs": [
        {
          "output_type": "execute_result",
          "data": {
            "text/plain": [
              "4"
            ]
          },
          "metadata": {
            "tags": []
          },
          "execution_count": 20
        }
      ]
    },
    {
      "cell_type": "markdown",
      "metadata": {
        "id": "-8pUejES_gQ8",
        "colab_type": "text"
      },
      "source": [
        "We should also create a game simulator class. For now, it will be really basic (so we can get a working prototype of the AI). \n",
        "\n",
        "TO DO: \n",
        "\n",
        "find probabilities of each unit appearing given player level"
      ]
    },
    {
      "cell_type": "code",
      "metadata": {
        "id": "HVqH_ZzKp_ku",
        "colab_type": "code",
        "colab": {}
      },
      "source": [
        "# This code cell is for creating a dictionary which assigns an alliance \n",
        "# to the number of different units needed for that alliance\n",
        "# e.g Demon Hunter = 1, Knight = 2, Assassin = 3\n",
        "from collections import defaultdict\n",
        "\n",
        "alliance_levels = {\n",
        "    \"assassin\": {\"boost\":3,\"max\":6},\n",
        "    \"bloodbound\": {\"boost\":2, \"max\":2},\n",
        "    \"brawny\": {\"boost\":2, \"max\":4},\n",
        "    \"brute\": {\"boost\":2,\"max\":4},\n",
        "    \"champion\": {\"boost\":1, \"max\":1},\n",
        "    \"deadeye\": {\"boost\":2, \"max\":2},\n",
        "    \"demon\": {\"boost\":1, \"max\":1},\n",
        "    \"dragon\": {\"boost\":2, \"max\":2},\n",
        "    \"druid\": {\"boost\":2, \"max\":4},\n",
        "    \"healer\": {\"boost\":3, \"max\":3},\n",
        "    \"heartless\": {\"boost\":2, \"max\":6},\n",
        "    \"human\": {\"boost\":2, \"max\":6},\n",
        "    \"hunter\": {\"boost\":3,\"max\":6},\n",
        "    \"insect\": {\"boost\":2, \"max\":4},\n",
        "    \"inventor\": {\"boost\":2, \"max\":4},\n",
        "    \"knight\": {\"boost\":2, \"max\":6},\n",
        "    \"mage\": {\"boost\":3,\"max\":6},\n",
        "    \"primordial\": {\"boost\":2, \"max\":4},\n",
        "    \"savage\": {\"boost\":2, \"max\":6},\n",
        "    \"scaled\": {\"boost\":2, \"max\":4}, \n",
        "    \"scrappy\": {\"boost\":2, \"max\":6},\n",
        "    \"shaman\": {\"boost\":2, \"max\":4}, \n",
        "    \"troll\": {\"boost\":2, \"max\":4},\n",
        "    \"warlock\": {\"boost\":2, \"max\":6},\n",
        "    \"warrior\": {\"boost\":3,\"max\":6}\n",
        "}"
      ],
      "execution_count": 0,
      "outputs": []
    },
    {
      "cell_type": "code",
      "metadata": {
        "id": "gh0UWvC6_Wig",
        "colab_type": "code",
        "colab": {
          "base_uri": "https://localhost:8080/",
          "height": 425
        },
        "outputId": "7a0e45a4-6b8d-4304-e37c-57624e8fa793"
      },
      "source": [
        "# probability of tiers given level\n",
        "level_prob = {\n",
        "        '1' : [1, 0, 0, 0, 0],\n",
        "        '2' : [0.7, 0.3, 0, 0, 0],\n",
        "        '3' : [0.6, 0.35, 0.05, 0, 0],\n",
        "        '4' : [0.5, 0.35, 0.15, 0, 0], \n",
        "        '5' : [\t0.4, 0.35,\t0.25,\t0,\t0], \n",
        "        '6' : [0.35, 0.30, 0.3, 0.05], \n",
        "        '7' : [0.25, 0.3, 0.35, 0.1, 0], \n",
        "        '8' : [0.22, 0.27, 0.35, 0.15, 0.1], \n",
        "        '9' : [0.2, 0.25, 0.3, 0.2, 0.3], \n",
        "        '10' : [0.15, 0.21, 0.28, 0.3, 0.06]\n",
        "    }\n",
        "\n",
        "# Create a dictionary which maps the cost / draft tier to a list of heroes \n",
        "# which are members of that tier\n",
        "# e.g 4 = ['Dragon Knight', 'Kunkka', ...]\n",
        "print(info.get_cost(\"dragon_knight\"))\n",
        "tier_to_unit = defaultdict(list)\n",
        "for unit in unit_info:\n",
        "  try:\n",
        "    cost = info.get_cost(unit)\n",
        "  except:\n",
        "    print(unit)\n",
        "  if cost != -1 and cost != 0:\n",
        "    tier_to_unit[str(cost)].append(unit)\n",
        "\n",
        "class SimpleSimulator():\n",
        "  def __init__(self):\n",
        "    self.inventory = defaultdict(int)\n",
        "    self.player_level = 1\n",
        "    self.gold = 5\n",
        "    self.xp = 1\n",
        "  \n",
        "  def reset(self):\n",
        "    self.inventory = defaultdict(int)\n",
        "    self.player_level = 1\n",
        "    self.gold = 5\n",
        "    self.xp = 1\n",
        "\n",
        "  # WORKS AND IS DONE\n",
        "  def generate_units(self, player_level): # player_level affects probability\n",
        "    \n",
        "    # get probability distribution of tiers based on player level\n",
        "    probabilities = level_prob[str(player_level)]\n",
        "    units = []\n",
        "\n",
        "    from numpy.random import choice\n",
        "    # get units of 5 slots which show up in store\n",
        "    for i in range(5):\n",
        "      # choose draft tier of slot i\n",
        "      draw = choice([1, 2, 3, 4, 5], 1, p=probabilities)\n",
        "      # choose a hero at random from the pool (account for pool size)\n",
        "      unit = choice(tier_to_unit[str(draw[0])])\n",
        "      units.append(unit) # add to the 5 slots\n",
        "\n",
        "    return units # list of units in the shop\n",
        "  def calcLevel(self,count):\n",
        "    l1 = 0\n",
        "    l2 = 0\n",
        "    l3 = 0\n",
        "    if(count/9>1):\n",
        "      # Level 3's\n",
        "      l3 = math.floor(count/9)\n",
        "      count -= 9*(math.floor(count/9))\n",
        "    if(count/3>1):\n",
        "      # Level 2's\n",
        "      l2 = math.floor(count/3)\n",
        "      count -= 3*(math.floor(count/3))\n",
        "    \n",
        "    # Level 1's\n",
        "    l1 = count\n",
        "    return ([l1,l2,l3])\n",
        "  # Given the amount of spaces on the board, this function will find all \n",
        "  # combinations of pieces, and will choose the one with the maximum reward\n",
        "  def calculate_reward(self):\n",
        "    fullInventory=[]\n",
        "    unitLevels={}\n",
        "    for unit in self.inventory:\n",
        "      unitCount = self.inventory[unit]\n",
        "      unitLevels[unit] = calcLevel(unitCount)\n",
        "\n",
        "    for unit in unitLevels:\n",
        "      for index,level in enumerate(unitLevels[unit]):\n",
        "        fullInventory.extend([(unit+str(index+1))]*level)\n",
        "\n",
        "    # defining parallel array to all combos\n",
        "    allComboSynergyLevel = []\n",
        "    for combo in itertools.combinations(fullInventory,self.player_level):\n",
        "      comboSynergy = defaultdict(int)\n",
        "\n",
        "      # Goes through each synergy of each unit and tallies the frequency\n",
        "      for unit in combo:\n",
        "        unit = unit[:-1]\n",
        "        synergies = info.get_synergies(unit)\n",
        "        for synergy in synergies:\n",
        "          comboSynergy[synergy] +=1\n",
        "\n",
        "      # Goes through the frequencies of each synergy and calculates level and adds it to parallel array\n",
        "      # holds levels for each synergy\n",
        "      temp ={}\n",
        "      for synergy in comboSynergy:\n",
        "        boost=alliance_levels[synergy][\"boost\"]\n",
        "        cap = alliance_levels[synergy][\"max\"]\n",
        "        synergyLevel = comboSynergy[synergy]/boost\n",
        "        if(synergyLevel <1):\n",
        "          temp[synergy]=0\n",
        "        elif(synergyLevel > cap/boost):\n",
        "          temp[synergy] = cap\n",
        "        else:\n",
        "          temp[synergy] = math.floor(synergyLevel)\n",
        "      \n",
        "      allComboSynergyLevel.append(temp)\n",
        "    return 0\n",
        "\n",
        "  # Returns observation space of network\n",
        "  def get_obs_space(self, units):\n",
        "    # Instead of making the observation space the entire set of units,\n",
        "    # we can make it related to just the units that are in the store\n",
        "    obs_space = []\n",
        "    for unit in units:\n",
        "      obs_space.append(self.inventory[unit])\n",
        "    return obs_space\n",
        "\n",
        "  # actions - what to do \n",
        "  def round(self, units, actions, rnd):\n",
        "    reward_before = self.calculate_reward()\n",
        "    current_state = self.get_obs_space(units)\n",
        "    \n",
        "    for action in actions:\n",
        "      # if a unit is being bought, add it to the inventory\n",
        "      if action[:3] == 'buy':\n",
        "        self.inventory[action[3:]] += 1\n",
        "      elif action[:4] == 'sell':\n",
        "        # Here, we account for the fact that technically 3 units are being sold\n",
        "        # if a level 2 unit is sold\n",
        "        # However,  if there are 4 pieces, that means there is 1 level 2 and 1 \n",
        "        # level 1, so we make the assumption that the level 1 is sold\n",
        "        if self.inventory[action[4:]] % 3 == 0 and self.inventory[action[4:]] != 9:\n",
        "          self.inventory[action[4:]] -= 3\n",
        "          self.gold += (3 * info.get_cost(action[4:]))\n",
        "        # if the unit is level 9, sell all of them\n",
        "        elif self.inventory[action[4:]] == 9:\n",
        "          self.inventory[action[4:]] -= 9\n",
        "          self.gold += (9 * info.get_cost(action[4:]))\n",
        "        else:\n",
        "          self.inventory[action[4:]] -= 1\n",
        "          self.gold += info.get_cost(action[4:])\n",
        "      # invariant -> enough gold\n",
        "      elif action == 'level':\n",
        "        while self.xp <= (2 ** self.level):\n",
        "          self.xp += 4\n",
        "          self.gold -= 5\n",
        "        self.player_level += 1\n",
        "        # if 39/40 and level up, then the player is level 11 with 3 leftover xp\n",
        "        self.xp = self.xp % (2 ** self.level)\n",
        "\n",
        "\n",
        "    self.xp += 1\n",
        "    if self.xp == 2 ** self.player_level:\n",
        "      self.player_level += 1\n",
        "      self.xp = 0 \n",
        "    self.gold += (5 + self.gold * 0.1) \n",
        "    \n",
        "    reward_after = self.calculate_reward()\n",
        "    reward = reward_after - reward_before\n",
        "    \n",
        "    current_new_state = self.get_obs_space(units)\n",
        "\n",
        "    return (current_state, actions, reward, current_new_state, rnd == 35)\n",
        "  \n",
        "  "
      ],
      "execution_count": 28,
      "outputs": [
        {
          "output_type": "stream",
          "text": [
            "4\n",
            "neutral_melee\n",
            "neutral_melee_mega\n",
            "neutral_ranged\n",
            "neutral_golem_a\n",
            "neutral_golem_b\n",
            "neutral_wolf_big\n",
            "neutral_wolf_small\n",
            "neutral_bear_a\n",
            "neutral_bear_b\n",
            "neutral_vulture_a\n",
            "neutral_vulture_b\n",
            "neutral_thunder_lizard_big\n",
            "neutral_thunder_lizard_small\n",
            "neutral_black_dragon\n",
            "neutral_troll_dark_a\n",
            "neutral_troll_dark_b\n",
            "neutral_troll_dark_frost\n",
            "neutral_nian\n",
            "neutral_roshan\n",
            "anessix\n",
            "hobgen\n",
            "horn_of_the_alpha_thunderhide\n",
            "anessix_golem\n"
          ],
          "name": "stdout"
        }
      ]
    },
    {
      "cell_type": "code",
      "metadata": {
        "id": "_V33OUZ0wVrC",
        "colab_type": "code",
        "colab": {
          "base_uri": "https://localhost:8080/",
          "height": 1000
        },
        "outputId": "16e0f4a6-504f-4e8e-940b-45c5a7294b0c"
      },
      "source": [
        "# tier_to_unit\n",
        "test = SimpleSimulator()"
      ],
      "execution_count": 27,
      "outputs": [
        {
          "output_type": "execute_result",
          "data": {
            "text/plain": [
              "defaultdict(list,\n",
              "            {'1': ['antimage',\n",
              "              'axe',\n",
              "              'bat_rider',\n",
              "              'bounty_hunter',\n",
              "              'drow_ranger',\n",
              "              'enchantress',\n",
              "              'razor',\n",
              "              'shadow_shaman',\n",
              "              'tiny',\n",
              "              'tusk',\n",
              "              'venomancer',\n",
              "              'warlock',\n",
              "              'bloodseeker',\n",
              "              'nyx_assassin',\n",
              "              'shadow_demon',\n",
              "              'snapfire'],\n",
              "             '2': ['beastmaster',\n",
              "              'chaos_knight',\n",
              "              'crystal_maiden',\n",
              "              'furion',\n",
              "              'luna',\n",
              "              'ogre_magi',\n",
              "              'puck',\n",
              "              'queen_of_pain',\n",
              "              'slardar',\n",
              "              'timbersaw',\n",
              "              'wind_ranger',\n",
              "              'witch_doctor',\n",
              "              'pudge',\n",
              "              'weaver',\n",
              "              'magnus',\n",
              "              'dazzle',\n",
              "              'storm_spirit',\n",
              "              'ember_spirit'],\n",
              "             '3': ['abaddon',\n",
              "              'clockwerk',\n",
              "              'juggernaut',\n",
              "              'lina',\n",
              "              'lycan',\n",
              "              'morphling',\n",
              "              'omniknight',\n",
              "              'phantom_assassin',\n",
              "              'shadow_fiend',\n",
              "              'slark',\n",
              "              'sniper',\n",
              "              'terrorblade',\n",
              "              'tinker',\n",
              "              'treant_protector',\n",
              "              'viper',\n",
              "              'legion_commander',\n",
              "              'wisp',\n",
              "              'horn_of_the_alpha_thunderhide',\n",
              "              'anessix_golem',\n",
              "              'life_stealer',\n",
              "              'earth_spirit'],\n",
              "             '4': ['alchemist',\n",
              "              'doom',\n",
              "              'dragon_knight',\n",
              "              'keeper_of_the_light',\n",
              "              'kunkka',\n",
              "              'lone_druid',\n",
              "              'necrophos',\n",
              "              'sand_king',\n",
              "              'templar_assassin',\n",
              "              'tidehunter',\n",
              "              'arc_warden',\n",
              "              'mirana',\n",
              "              'broodmother',\n",
              "              'bristleback'],\n",
              "             '5': ['disruptor',\n",
              "              'enigma',\n",
              "              'gyrocopter',\n",
              "              'lich',\n",
              "              'medusa',\n",
              "              'techies',\n",
              "              'troll_warlord',\n",
              "              'faceless_void',\n",
              "              'sven',\n",
              "              'void_spirit']})"
            ]
          },
          "metadata": {
            "tags": []
          },
          "execution_count": 27
        }
      ]
    }
  ]
}
